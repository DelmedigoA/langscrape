{
 "cells": [
  {
   "cell_type": "code",
   "execution_count": null,
   "id": "49e02b71",
   "metadata": {},
   "outputs": [],
   "source": []
  },
  {
   "cell_type": "code",
   "execution_count": 2,
   "id": "dd2ba73a",
   "metadata": {},
   "outputs": [
    {
     "name": "stdout",
     "output_type": "stream",
     "text": [
      "❌ Failed to load palestinian-prisoners-released-gaza.html.json: Expecting value: line 41 column 17 (char 2660)\n",
      "❌ Failed to load israel-gaza-cease-fire-talks.html.json: Expecting value: line 40 column 17 (char 2850)\n",
      "❌ Failed to load israel-hostages-killed-strike.html.json: Expecting value: line 37 column 17 (char 2231)\n",
      "❌ Failed to load babies-dying-preventable-causes-besieged-gaza-oxfam.json: Expecting value: line 23 column 17 (char 5663)\n",
      "❌ Failed to load biden-netanyahu-iran-israel-us-wont-support.json: Expecting value: line 47 column 17 (char 2942)\n",
      "❌ Failed to load israel-hamas-war-gaza-news#missing-people-under-gazas-rubble-make-for-a-shadow-death-toll.json: Expecting value: line 34 column 17 (char 32343)\n",
      "❌ Failed to load stop-playing-games-over-israeli-hostages-families-tell-netanyahu-hqjctj0mp.json: Expecting value: line 27 column 17 (char 775)\n",
      "❌ Failed to load oct-7-attacks-hamas-israel-sexual-violence.html.json: Expecting value: line 33 column 17 (char 17029)\n",
      "❌ Failed to load israel-hamas-ceasefire-hostages.html.json: Expecting value: line 42 column 17 (char 2459)\n",
      "❌ Failed to load yokra14254462.json: Expecting value: line 73 column 17 (char 14885)\n",
      "❌ Failed to load LeeMordechai.json: Expecting value: line 25 column 17 (char 651)\n",
      "❌ Failed to load 443586.json: Expecting value: line 60 column 17 (char 5622)\n",
      "❌ Failed to load 00000190-9695-d0d3-a5f3-9ebd81f60000.json: Expecting value: line 33 column 17 (char 2153)\n",
      "❌ Failed to load us-israel-artillery-shells-ukraine-weapons-gaza.json: Expecting value: line 49 column 17 (char 3035)\n",
      "❌ Failed to load 760712.json: Expecting value: line 21 column 17 (char 3713)\n",
      "❌ Failed to load israel-government-continues-block-aid-response-despite-icj-genocide-court-ruling.json: Expecting value: line 24 column 17 (char 8128)\n",
      "❌ Failed to load netanyahu-trump-harris.html.json: Expecting value: line 27 column 17 (char 10549)\n",
      "❌ Failed to load 0000018f-622a-d9a0-a38f-ee2f1f8e0000.json: Expecting value: line 36 column 17 (char 3520)\n",
      "❌ Failed to load 00000191-e71a-dbaa-a195-ffbf7a510000.json: Expecting value: line 36 column 17 (char 2824)\n",
      "❌ Failed to load 14709456.json: Expecting value: line 26 column 17 (char 599)\n",
      "❌ Failed to load more-resignations-over-israel-and-a-failed-policy-00156536.json: Expecting value: line 166 column 17 (char 15804)\n",
      "❌ Failed to load ry3hhodwjl.json: Expecting value: line 27 column 17 (char 3565)\n",
      "❌ Failed to load 17488516.json: Expecting value: line 67 column 17 (char 4818)\n",
      "❌ Failed to load 750891.json: Expecting value: line 32 column 17 (char 1560)\n",
      "❌ Failed to load netanyahu-schumer-israel.html.json: Expecting value: line 37 column 17 (char 2653)\n",
      "❌ Failed to load 620173.json: Expecting value: line 36 column 17 (char 2015)\n",
      "❌ Failed to load 00000191-ed46-d2a0-a7f5-ed5e21960000?liveBlogItemId=844356126#844356126.json: Expecting value: line 30 column 17 (char 2696)\n",
      "❌ Failed to load 3720024.json: Expecting value: line 25 column 17 (char 3074)\n",
      "❌ Failed to load r1piqe07kx.json: Expecting value: line 25 column 17 (char 5588)\n",
      "❌ Failed to load israel-refusing-to-release-marwan-barghouti-ahmad-saadat.json: Expecting value: line 26 column 17 (char 15656)\n",
      "❌ Failed to load article.aspx?did=1001461283.json: Expecting value: line 26 column 17 (char 3164)\n",
      "❌ Failed to load 00000193-91a0-d6ba-afdb-9bbc5ea90000.json: Expecting value: line 40 column 17 (char 3989)\n",
      "❌ Failed to load 3717731.json: Expecting value: line 25 column 17 (char 2947)\n",
      "❌ Failed to load Article-1f18083ec658191026.htm.json: Expecting value: line 25 column 17 (char 4335)\n",
      "❌ Failed to load cbe18019-752f-4770-be40-fe4b2dc5abd7.json: Expecting value: line 23 column 17 (char 776)\n",
      "❌ Failed to load jewish-chronicle-axes-journalist-over-fabricated-hamas-report.json: Expecting value: line 80 column 17 (char 4482)\n",
      "❌ Failed to load israel-gaza-economy.html.json: Expecting value: line 39 column 17 (char 2102)\n",
      "❌ Failed to load biden-netanyahu-us-support-israel.json: Expecting value: line 28 column 17 (char 4836)\n",
      "❌ Failed to load hkqcmmqi6.json: Expecting value: line 30 column 17 (char 4837)\n",
      "❌ Failed to load WHCMVqNOre0?si=PlZXwSpzeJ4boVyR&t=2430.json: Expecting value: line 23 column 17 (char 501)\n",
      "❌ Failed to load rjnf2wdap.json: Expecting value: line 27 column 17 (char 1693)\n",
      "❌ Failed to load israel-campaign-gaza-social-media.html.json: Expecting value: line 45 column 17 (char 3067)\n",
      "❌ Failed to load watch?v=NlCzT9_YE9Y.json: Expecting value: line 26 column 17 (char 634)\n",
      "❌ Failed to load la-me-ucla-camp-police.json: Expecting value: line 26 column 17 (char 10019)\n",
      "❌ Failed to load index.json: Expecting value: line 210 column 17 (char 17990)\n",
      "❌ Failed to load israel-gaza-un-unrwa.html.json: Expecting value: line 42 column 17 (char 2562)\n",
      "❌ Failed to load watch?v=hh4Tx61pcK4.json: Expecting value: line 25 column 17 (char 557)\n",
      "❌ Failed to load exclusive-usaid-officials-say-israel-breached-us-directive-on-gaza-aid-107545.json: Expecting value: line 81 column 17 (char 11555)\n",
      "❌ Failed to load bild-exklusiv-zum-schaudern-das-plant-der-hamas-chef-mit-den-geiseln-66d98503c0fd674dd9f5d092.json: Expecting value: line 26 column 17 (char 5616)\n",
      "❌ Failed to load watch?v=tBGsDTHaM9k.json: Expecting value: line 25 column 17 (char 533)\n",
      "❌ Failed to load watch?v=JAT9NQ4WkE0.json: Expecting value: line 26 column 17 (char 629)\n",
      "✅ Loaded 552 records into DataFrame.\n",
      "✅ Saved 552 records in results_table.xlsx\n"
     ]
    }
   ],
   "source": [
    "import os\n",
    "import json\n",
    "import pandas as pd\n",
    "\n",
    "DATA_DIR = \"/Users/delmedigo/Dev/langtest/langscrape/data/production_21_10_2025/jsons\"\n",
    "\n",
    "mapping_dict = {\n",
    "    \"Number\": \"meta_data.id\",\n",
    "    \"Link\": \"meta_data.url\",\n",
    "    \"Title\": \"summary.title\",\n",
    "    \"Description*\": \"summary.summary\",\n",
    "    \"Published Date\": \"summary.publication_date\",\n",
    "    \"Event date from\": \"summary.event_start_date\",\n",
    "    \"Event date to\": \"summary.event_end_date\",\n",
    "    \"Platform\": \"summary.platform\",\n",
    "    \"Author\": \"summary.author\",\n",
    "    \"Source\": \"summary.source\",\n",
    "    \"Reference\": \"summary.platform\",\n",
    "    \"Language\": \"summary.language\",\n",
    "    \"Location\": \"summary.location_tags\",\n",
    "    \"Type\": \"summary.type\",\n",
    "    \"Media\": \"summary.media\",\n",
    "    \"Theme (tag)\": \"summary.theme_tags\",\n",
    "    \"Places & Organizations (tag)\": \"summary.countries_and_organizations_tags\",\n",
    "    \"Locations (tag)\": \"summary.location_tags\",\n",
    "    \"Figures (tag)\": \"summary.figures_tags\",\n",
    "}\n",
    "\n",
    "def get_value(obj, path):\n",
    "    \"\"\"Resolve dotted paths like 'a.b[0]' safely.\"\"\"\n",
    "    if not path:\n",
    "        return \"\"\n",
    "    parts = path.replace(\"]\", \"\").split(\".\")\n",
    "    current = obj\n",
    "    try:\n",
    "        for part in parts:\n",
    "            if \"[\" in part:\n",
    "                key, idx = part.split(\"[\")\n",
    "                current = current.get(key, [])[int(idx)]\n",
    "            else:\n",
    "                current = current.get(part, \"\")\n",
    "        if isinstance(current, list):\n",
    "            return \", \".join(map(str, current))\n",
    "        return current\n",
    "    except Exception:\n",
    "        return \"\"\n",
    "\n",
    "rows = []\n",
    "files = [\n",
    "    f for f in os.listdir(DATA_DIR)\n",
    "    if f.endswith(\".json\") and f != \"links.csv\"\n",
    "]\n",
    "\n",
    "for file in files:\n",
    "    path = os.path.join(DATA_DIR, file)\n",
    "    try:\n",
    "        with open(path, \"r\", encoding=\"utf-8\") as f:\n",
    "            data = json.load(f)\n",
    "        row = {}\n",
    "        for col, path_expr in mapping_dict.items():\n",
    "            row[col] = get_value(data, path_expr) if path_expr else \"\"\n",
    "        rows.append(row)\n",
    "    except Exception as e:\n",
    "        print(f\"❌ Failed to load {file}: {e}\")\n",
    "\n",
    "df = pd.DataFrame(rows)\n",
    "print(f\"✅ Loaded {len(df)} records into DataFrame.\")\n",
    "df.to_excel(os.path.join(DATA_DIR, \"results_table.xlsx\"), index=False)\n",
    "print(f\"✅ Saved {len(df)} records in results_table.xlsx\")"
   ]
  },
  {
   "cell_type": "code",
   "execution_count": null,
   "id": "f665550a",
   "metadata": {},
   "outputs": [],
   "source": [
    "extractor_inputs, extractor_outputs, summarizer_inputs, summarizer_outputs = [], [], [], []\n",
    "total_tokens = []\n",
    "for file in files:\n",
    "    path = os.path.join(DATA_DIR, file)\n",
    "    try:\n",
    "        with open(path, \"r\", encoding=\"utf-8\") as f:\n",
    "            data = json.load(f)\n",
    "        extractor_inputs.append(data[\"meta_data\"]['token_usage'][\"extractor\"][\"input_tokens\"])\n",
    "        extractor_outputs.append(data[\"meta_data\"]['token_usage'][\"extractor\"][\"output_tokens\"])\n",
    "        summarizer_inputs.append(data[\"meta_data\"]['token_usage'][\"summarizer\"][\"input_tokens\"])\n",
    "        summarizer_outputs.append(data[\"meta_data\"]['token_usage'][\"summarizer\"][\"output_tokens\"])\n",
    "    except Exception as e:\n",
    "        print(f\"❌ Failed to load {file}: {e}\")"
   ]
  },
  {
   "cell_type": "code",
   "execution_count": null,
   "id": "c7f3add4",
   "metadata": {},
   "outputs": [],
   "source": [
    "from statistics import mean\n",
    "import numpy\n",
    "def get_metrics(l):\n",
    "    l = [e for e in l if e != 0]\n",
    "    if isinstance(l, list):\n",
    "        return mean(l), max(l), min(l)\n",
    "    elif isinstance(l, numpy.int64):\n",
    "        return mean(l).item(), max(l).item(), min(l).item()\n",
    "    else:\n",
    "        return mean(l).item(), max(l).item(), min(l).item()\n",
    "\n",
    "a, b, c = get_metrics(numpy.array(extractor_inputs) + numpy.array(extractor_outputs) + numpy.array(summarizer_inputs) + numpy.array(summarizer_outputs))"
   ]
  },
  {
   "cell_type": "code",
   "execution_count": null,
   "id": "5c152c3a",
   "metadata": {},
   "outputs": [],
   "source": [
    "print(\"mean:\",a,\"max:\",b,\"min:\",c)"
   ]
  },
  {
   "cell_type": "code",
   "execution_count": null,
   "id": "eb90c56c",
   "metadata": {},
   "outputs": [],
   "source": [
    "!pip install "
   ]
  },
  {
   "cell_type": "code",
   "execution_count": null,
   "id": "643f60e6",
   "metadata": {},
   "outputs": [],
   "source": []
  },
  {
   "cell_type": "code",
   "execution_count": null,
   "id": "86e90715",
   "metadata": {},
   "outputs": [],
   "source": [
    "!python -m newspaper --url=\"https://edition.cnn.com/2023/11/17/success/job-seekers-use-ai/index.html\" --language=en --output-format=json --output-file=article.json\n"
   ]
  },
  {
   "cell_type": "code",
   "execution_count": null,
   "id": "8ce51f2f",
   "metadata": {},
   "outputs": [],
   "source": [
    "import newspaper\n",
    "\n",
    "article = newspaper.article('https://www.haaretz.co.il/magazine/2025-10-23/ty-article-magazine/.highlight/0000019a-0a73-dfc6-a3bf-fb77ff1e0000')"
   ]
  },
  {
   "cell_type": "code",
   "execution_count": null,
   "id": "7126d334",
   "metadata": {},
   "outputs": [],
   "source": [
    "article.summary"
   ]
  },
  {
   "cell_type": "code",
   "execution_count": null,
   "id": "e96c19eb",
   "metadata": {},
   "outputs": [],
   "source": []
  }
 ],
 "metadata": {
  "kernelspec": {
   "display_name": ".env",
   "language": "python",
   "name": "python3"
  },
  "language_info": {
   "codemirror_mode": {
    "name": "ipython",
    "version": 3
   },
   "file_extension": ".py",
   "mimetype": "text/x-python",
   "name": "python",
   "nbconvert_exporter": "python",
   "pygments_lexer": "ipython3",
   "version": "3.14.0"
  }
 },
 "nbformat": 4,
 "nbformat_minor": 5
}
