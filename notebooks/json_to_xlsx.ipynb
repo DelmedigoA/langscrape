{
 "cells": [
  {
   "cell_type": "code",
   "execution_count": 1,
   "id": "dd2ba73a",
   "metadata": {},
   "outputs": [
    {
     "name": "stdout",
     "output_type": "stream",
     "text": [
      "✅ Loaded 48 records into DataFrame.\n",
      "✅ Saved 48 records in results_table.xlsx\n"
     ]
    }
   ],
   "source": [
    "import os\n",
    "import json\n",
    "import pandas as pd\n",
    "\n",
    "DATA_DIR = \"/Users/delmedigo/Dev/langtest/langscrape/data/jsons\"\n",
    "\n",
    "mapping_dict = {\n",
    "    \"Number\": \"meta_data.id\",\n",
    "    \"Link\": \"meta_data.url\",\n",
    "    \"Title\": \"summary.title\",\n",
    "    \"Description*\": \"summary.summary\",\n",
    "    \"Published Date\": \"summary.publication_date\",\n",
    "    \"Event date from\": \"summary.event_start_date\",\n",
    "    \"Event date to\": \"summary.event_end_date\",\n",
    "    \"Platform\": \"summary.platform\",\n",
    "    \"Author\": \"summary.author\",\n",
    "    \"Source\": None,\n",
    "    \"Reference\": None,\n",
    "    \"Language\": \"summary.language\",\n",
    "    \"Location\": \"summary.location_tags\",\n",
    "    \"Type\": \"summary.type\",\n",
    "    \"Media\": \"summary.media\",\n",
    "    \"Theme (tag)\": \"summary.theme_tags\",\n",
    "    \"Places & Organizations (tag)\": \"summary.countries_and_organizations_tags\",\n",
    "    \"Locations (tag)\": \"summary.location_tags\",\n",
    "    \"Figures (tag)\": \"summary.figures_tags\",\n",
    "}\n",
    "\n",
    "def get_value(obj, path):\n",
    "    \"\"\"Resolve dotted paths like 'a.b[0]' safely.\"\"\"\n",
    "    if not path:\n",
    "        return \"\"\n",
    "    parts = path.replace(\"]\", \"\").split(\".\")\n",
    "    current = obj\n",
    "    try:\n",
    "        for part in parts:\n",
    "            if \"[\" in part:\n",
    "                key, idx = part.split(\"[\")\n",
    "                current = current.get(key, [])[int(idx)]\n",
    "            else:\n",
    "                current = current.get(part, \"\")\n",
    "        if isinstance(current, list):\n",
    "            return \", \".join(map(str, current))\n",
    "        return current\n",
    "    except Exception:\n",
    "        return \"\"\n",
    "\n",
    "rows = []\n",
    "files = [\n",
    "    f for f in os.listdir(DATA_DIR)\n",
    "    if f.endswith(\".json\") and f != \"links.csv\"\n",
    "]\n",
    "\n",
    "for file in files:\n",
    "    path = os.path.join(DATA_DIR, file)\n",
    "    try:\n",
    "        with open(path, \"r\", encoding=\"utf-8\") as f:\n",
    "            data = json.load(f)\n",
    "        row = {}\n",
    "        for col, path_expr in mapping_dict.items():\n",
    "            row[col] = get_value(data, path_expr) if path_expr else \"\"\n",
    "        rows.append(row)\n",
    "    except Exception as e:\n",
    "        print(f\"❌ Failed to load {file}: {e}\")\n",
    "\n",
    "df = pd.DataFrame(rows)\n",
    "print(f\"✅ Loaded {len(df)} records into DataFrame.\")\n",
    "df.to_excel(os.path.join(DATA_DIR, \"results_table.xlsx\"), index=False)\n",
    "print(f\"✅ Saved {len(df)} records in results_table.xlsx\")"
   ]
  },
  {
   "cell_type": "code",
   "execution_count": null,
   "id": "f665550a",
   "metadata": {},
   "outputs": [
    {
     "name": "stdout",
     "output_type": "stream",
     "text": [
      "❌ Failed to load logging.json: 'meta_data'\n"
     ]
    }
   ],
   "source": [
    "extractor_inputs, extractor_outputs, summarizer_inputs, summarizer_outputs = [], [], [], []\n",
    "total_tokens = []\n",
    "for file in files:\n",
    "    path = os.path.join(DATA_DIR, file)\n",
    "    try:\n",
    "        with open(path, \"r\", encoding=\"utf-8\") as f:\n",
    "            data = json.load(f)\n",
    "        extractor_inputs.append(data[\"meta_data\"]['token_usage'][\"extractor\"][\"input_tokens\"])\n",
    "        extractor_outputs.append(data[\"meta_data\"]['token_usage'][\"extractor\"][\"output_tokens\"])\n",
    "        summarizer_inputs.append(data[\"meta_data\"]['token_usage'][\"summarizer\"][\"input_tokens\"])\n",
    "        summarizer_outputs.append(data[\"meta_data\"]['token_usage'][\"summarizer\"][\"output_tokens\"])\n",
    "    except Exception as e:\n",
    "        print(f\"❌ Failed to load {file}: {e}\")"
   ]
  },
  {
   "cell_type": "code",
   "execution_count": 20,
   "id": "c7f3add4",
   "metadata": {},
   "outputs": [],
   "source": [
    "from statistics import mean\n",
    "import numpy\n",
    "def get_metrics(l):\n",
    "    l = [e for e in l if e != 0]\n",
    "    if isinstance(l, list):\n",
    "        return mean(l), max(l), min(l)\n",
    "    elif isinstance(l, numpy.int64):\n",
    "        return mean(l).item(), max(l).item(), min(l).item()\n",
    "    else:\n",
    "        return mean(l).item(), max(l).item(), min(l).item()\n",
    "\n",
    "a, b, c = get_metrics(numpy.array(extractor_inputs) + numpy.array(extractor_outputs) + numpy.array(summarizer_inputs) + numpy.array(summarizer_outputs))"
   ]
  },
  {
   "cell_type": "code",
   "execution_count": 21,
   "id": "5c152c3a",
   "metadata": {},
   "outputs": [
    {
     "name": "stdout",
     "output_type": "stream",
     "text": [
      "mean: 28192 max: 79676 min: 4556\n"
     ]
    }
   ],
   "source": [
    "print(\"mean:\",a,\"max:\",b,\"min:\",c)"
   ]
  },
  {
   "cell_type": "code",
   "execution_count": null,
   "id": "99e3d314",
   "metadata": {},
   "outputs": [],
   "source": []
  }
 ],
 "metadata": {
  "kernelspec": {
   "display_name": ".env",
   "language": "python",
   "name": "python3"
  },
  "language_info": {
   "codemirror_mode": {
    "name": "ipython",
    "version": 3
   },
   "file_extension": ".py",
   "mimetype": "text/x-python",
   "name": "python",
   "nbconvert_exporter": "python",
   "pygments_lexer": "ipython3",
   "version": "3.13.7"
  }
 },
 "nbformat": 4,
 "nbformat_minor": 5
}
