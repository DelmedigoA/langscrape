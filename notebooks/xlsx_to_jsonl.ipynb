{
 "cells": [
  {
   "cell_type": "code",
   "execution_count": 42,
   "id": "a2d51352",
   "metadata": {},
   "outputs": [
    {
     "data": {
      "text/plain": [
       "{'summary': {'title': 'Released detainee recounts brutal IDF beatings',\n",
       "  'summary': 'A Palestinian man released from an Israeli prison recounts being frequently beaten by IDF soldiers just \"for the sake of beating.\" In one instance, he was thrown onto an Israeli tank, sustaining neck and back injuries, as well as a head wound that required stitches.',\n",
       "  'publication_date': '2024-02-01',\n",
       "  'event_start_date': None,\n",
       "  'event_end_date': None,\n",
       "  'platform': 'X',\n",
       "  'author': 'Nour Naim (@NourNaim88)',\n",
       "  'source': None,\n",
       "  'reference': None,\n",
       "  'language': 'English, Arabic',\n",
       "  'location_tags': 'Gaza Strip',\n",
       "  'type': 'Post',\n",
       "  'media': 'Text, Video',\n",
       "  'theme_tags': 'Torture, Humiliation, Dehumanization, Captivity Conditions, Abuse, Testimony, Detainees',\n",
       "  'countries_and_organizations_tags': 'Israeli Prison, Israeli Incarceration System',\n",
       "  'figures_tags': None}}"
      ]
     },
     "execution_count": 42,
     "metadata": {},
     "output_type": "execute_result"
    }
   ],
   "source": [
    "from typing import Tuple\n",
    "import pandas as pd\n",
    "import json\n",
    "import math\n",
    "import datetime\n",
    "\n",
    "# Path to your Excel file\n",
    "XLSX_PATH = \"/Users/delmedigo/Dev/langtest/langscrape/data/Copy of MASTER 25_6_25.xlsx\"\n",
    "SHEET_NAME = \"MASTER Production\"\n",
    "# Where to write the per-row JSON files\n",
    "OUTPUT_DIR = \"/Users/delmedigo/Dev/langtest/langscrape/data/gt_jsons\"\n",
    "\n",
    "MAPPING = {\n",
    "    \"Title\": \"summary.title\",\n",
    "    \"Description*\": \"summary.summary\",\n",
    "    \"published Date\": \"summary.publication_date\",\n",
    "    \"Event date from\": \"summary.event_start_date\",\n",
    "    \"Event date to\": \"summary.event_end_date\",\n",
    "    \"Platform\": \"summary.platform\",\n",
    "    \"Author \": \"summary.author\",\n",
    "    \"Source\": \"summary.source\",\n",
    "    \"Reference\": \"summary.reference\",\n",
    "    \"Language\": \"summary.language\",\n",
    "    \"Location\": \"summary.location_tags\",\n",
    "    \"Locations (tag)\": \"summary.location_tags\",\n",
    "    \"Type\": \"summary.type\",\n",
    "    \"Media\": \"summary.media\",\n",
    "    \"Theme (tag)\": \"summary.theme_tags\",\n",
    "    \"Places & Organizations (tag)\": \"summary.countries_and_organizations_tags\",\n",
    "    \"Figures (tag)\": \"summary.figures_tags\",\n",
    "}\n",
    "\n",
    "def get_key_1_2(key) -> Tuple[str, str]:\n",
    "    return key.split(\".\")[0], key.split(\".\")[-1]\n",
    "\n",
    "def dfid_to_json(id):\n",
    "    row = df[df.Number == id].squeeze()\n",
    "    data = {\"summary\": {}}\n",
    "    for key in MAPPING.keys():\n",
    "        k1, k2 = get_key_1_2(MAPPING[key])\n",
    "        value = row[key]\n",
    "        if isinstance(value, datetime.datetime):\n",
    "            value = value.strftime(\"%Y-%m-%d\")\n",
    "        elif isinstance(value, float):\n",
    "            value = None if math.isnan(value) else value\n",
    "        data[k1][k2] = value\n",
    "    return data\n",
    "\n",
    "df = pd.read_excel(XLSX_PATH, sheet_name=SHEET_NAME)\n",
    "\n",
    "lines = []\n",
    "for row in range(len(df)):\n",
    "    data = {\"summary\": {}}\n",
    "    for key in MAPPING.keys():\n",
    "        k1, k2 = get_key_1_2(MAPPING[key])\n",
    "        value = df.iloc[row][key]\n",
    "        if isinstance(value, datetime.datetime):\n",
    "            value = value.strftime(\"%Y-%m-%d\")\n",
    "        elif isinstance(value, float):\n",
    "            value = None if math.isnan(value) else value\n",
    "        data[k1][k2] = value\n",
    "    lines.append(data)\n",
    "\n",
    "lines[123]"
   ]
  },
  {
   "cell_type": "code",
   "execution_count": 43,
   "id": "b9f7da05",
   "metadata": {},
   "outputs": [
    {
     "data": {
      "text/plain": [
       "{'summary': {'title': 'UNDP Report says development in Gaza went back by 69 years',\n",
       "  'summary': \"A new UN report highlights the severe impacts of war on Gaza's development, projecting a rise in poverty and a significant contraction in GDP and employment in the State of Palestine.\",\n",
       "  'publication_date': '2024-10-22',\n",
       "  'event_start_date': None,\n",
       "  'event_end_date': None,\n",
       "  'platform': 'UNDP (UN Development Programme)',\n",
       "  'author': 'United Nations Development Programme',\n",
       "  'source': None,\n",
       "  'reference': 'https://www.undp.org/arab-states/publications/gaza-war-expected-socio-economic-impacts-state-palestine-october-2024',\n",
       "  'language': 'English',\n",
       "  'location_tags': None,\n",
       "  'type': 'Official Report',\n",
       "  'media': 'Text',\n",
       "  'theme_tags': 'Economy, Aid, Blockade, Reconstruction',\n",
       "  'countries_and_organizations_tags': None,\n",
       "  'figures_tags': None}}"
      ]
     },
     "execution_count": 43,
     "metadata": {},
     "output_type": "execute_result"
    }
   ],
   "source": [
    "dfid_to_json(2384)"
   ]
  }
 ],
 "metadata": {
  "kernelspec": {
   "display_name": ".env",
   "language": "python",
   "name": "python3"
  },
  "language_info": {
   "codemirror_mode": {
    "name": "ipython",
    "version": 3
   },
   "file_extension": ".py",
   "mimetype": "text/x-python",
   "name": "python",
   "nbconvert_exporter": "python",
   "pygments_lexer": "ipython3",
   "version": "3.13.7"
  }
 },
 "nbformat": 4,
 "nbformat_minor": 5
}
