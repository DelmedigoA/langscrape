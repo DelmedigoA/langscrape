{
 "cells": [
  {
   "cell_type": "code",
   "execution_count": 1,
   "id": "0e76e797",
   "metadata": {},
   "outputs": [],
   "source": [
    "import os\n",
    "import pandas as pd\n",
    "import sys\n",
    "\n",
    "sys.path.append(os.path.abspath(\"..\"))\n",
    "\n",
    "notebook_dir = os.path.dirname(os.getcwd())\n",
    "csv_path = os.path.join(notebook_dir, \"data\", \"links.csv\")\n",
    "\n",
    "df = pd.read_csv(csv_path)"
   ]
  },
  {
   "cell_type": "code",
   "execution_count": 23,
   "id": "51b9786f",
   "metadata": {},
   "outputs": [],
   "source": [
    "def _is_youtube(url):\n",
    "    return \"www.youtube.com\" in url\n",
    "\n",
    "def _is_tiktok(url):\n",
    "    return \"www.tiktok.com\" in url\n",
    "\n",
    "def _is_video(url):\n",
    "    return (_is_tiktok(url) or _is_youtube(url))\n",
    "\n",
    "def _is_pdf(url):\n",
    "    return str(url).lower().endswith(\".pdf\")"
   ]
  },
  {
   "cell_type": "code",
   "execution_count": 24,
   "id": "c20542ff",
   "metadata": {},
   "outputs": [
    {
     "data": {
      "text/plain": [
       "68"
      ]
     },
     "execution_count": 24,
     "metadata": {},
     "output_type": "execute_result"
    }
   ],
   "source": [
    "len(df.loc[df[\"url\"].apply(_is_pdf)])"
   ]
  },
  {
   "cell_type": "code",
   "execution_count": 25,
   "id": "da74a749",
   "metadata": {},
   "outputs": [
    {
     "data": {
      "text/plain": [
       "1"
      ]
     },
     "execution_count": 25,
     "metadata": {},
     "output_type": "execute_result"
    }
   ],
   "source": [
    "len(df.loc[df[\"url\"].apply(_is_tiktok)])"
   ]
  },
  {
   "cell_type": "code",
   "execution_count": 27,
   "id": "a4f05b3b",
   "metadata": {},
   "outputs": [
    {
     "data": {
      "text/plain": [
       "55"
      ]
     },
     "execution_count": 27,
     "metadata": {},
     "output_type": "execute_result"
    }
   ],
   "source": [
    "len(df.loc[df[\"url\"].apply(_is_video)])"
   ]
  },
  {
   "cell_type": "code",
   "execution_count": 3,
   "id": "d30f2d09",
   "metadata": {},
   "outputs": [],
   "source": [
    "from langchain_deepseek import ChatDeepSeek\n",
    "from dotenv import load_dotenv\n",
    "import os\n",
    "load_dotenv(\"api_keys.env\")\n",
    "API_KEY = \"sk-d358dcfb6d0b42908013f8ce6d876665\"\n",
    "reasoner = ChatDeepSeek(model=\"deepseek-reasoner\", api_key=API_KEY)\n",
    "regular = ChatDeepSeek(model=\"deepseek-chat\", api_key=API_KEY)"
   ]
  },
  {
   "cell_type": "code",
   "execution_count": 6,
   "id": "6d5c4867",
   "metadata": {},
   "outputs": [],
   "source": [
    "reasoner_response = reasoner.invoke(\"hi!\")\n",
    "regular_response = regular.invoke(\"hi!\")"
   ]
  },
  {
   "cell_type": "code",
   "execution_count": 7,
   "id": "682db167",
   "metadata": {},
   "outputs": [
    {
     "data": {
      "text/plain": [
       "(langchain_core.messages.ai.AIMessage, langchain_core.messages.ai.AIMessage)"
      ]
     },
     "execution_count": 7,
     "metadata": {},
     "output_type": "execute_result"
    }
   ],
   "source": [
    "type(regular_response), type(reasoner_response)"
   ]
  },
  {
   "cell_type": "code",
   "execution_count": 10,
   "id": "44b64f49",
   "metadata": {},
   "outputs": [
    {
     "data": {
      "text/plain": [
       "('Hello! 👋 How can I help you today?',\n",
       " \"Hello! 😊 How can I help you today? Feel free to ask me anything - whether it's a question, a task you'd like assistance with, or just want to chat!\")"
      ]
     },
     "execution_count": 10,
     "metadata": {},
     "output_type": "execute_result"
    }
   ],
   "source": [
    "regular_response.content, reasoner_response.content"
   ]
  },
  {
   "cell_type": "code",
   "execution_count": null,
   "id": "82182857",
   "metadata": {},
   "outputs": [],
   "source": []
  }
 ],
 "metadata": {
  "kernelspec": {
   "display_name": ".env",
   "language": "python",
   "name": "python3"
  },
  "language_info": {
   "codemirror_mode": {
    "name": "ipython",
    "version": 3
   },
   "file_extension": ".py",
   "mimetype": "text/x-python",
   "name": "python",
   "nbconvert_exporter": "python",
   "pygments_lexer": "ipython3",
   "version": "3.13.7"
  }
 },
 "nbformat": 4,
 "nbformat_minor": 5
}
