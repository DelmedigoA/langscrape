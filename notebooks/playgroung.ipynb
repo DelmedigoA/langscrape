{
 "cells": [
  {
   "cell_type": "code",
   "execution_count": null,
   "id": "0e76e797",
   "metadata": {},
   "outputs": [],
   "source": [
    "import os\n",
    "import pandas as pd\n",
    "import sys\n",
    "\n",
    "sys.path.append(os.path.abspath(\"..\"))\n",
    "\n",
    "notebook_dir = os.path.dirname(os.getcwd())\n",
    "csv_path = os.path.join(notebook_dir, \"data\", \"links.csv\")\n",
    "\n",
    "df = pd.read_csv(csv_path)"
   ]
  },
  {
   "cell_type": "code",
   "execution_count": null,
   "id": "51b9786f",
   "metadata": {},
   "outputs": [],
   "source": [
    "def _is_youtube(url):\n",
    "    return \"www.youtube.com\" in url\n",
    "\n",
    "def _is_tiktok(url):\n",
    "    return \"www.tiktok.com\" in url\n",
    "\n",
    "def _is_video(url):\n",
    "    return (_is_tiktok(url) or _is_youtube(url))\n",
    "\n",
    "def _is_pdf(url):\n",
    "    return str(url).lower().endswith(\".pdf\")"
   ]
  },
  {
   "cell_type": "code",
   "execution_count": null,
   "id": "c20542ff",
   "metadata": {},
   "outputs": [],
   "source": [
    "len(df.loc[df[\"url\"].apply(_is_pdf)])"
   ]
  },
  {
   "cell_type": "code",
   "execution_count": null,
   "id": "da74a749",
   "metadata": {},
   "outputs": [],
   "source": [
    "len(df.loc[df[\"url\"].apply(_is_tiktok)])"
   ]
  },
  {
   "cell_type": "code",
   "execution_count": null,
   "id": "a4f05b3b",
   "metadata": {},
   "outputs": [],
   "source": [
    "len(df.loc[df[\"url\"].apply(_is_video)])"
   ]
  },
  {
   "cell_type": "code",
   "execution_count": null,
   "id": "eb0afb70",
   "metadata": {},
   "outputs": [],
   "source": [
    "import json\n",
    "import os\n",
    "\n",
    "root_dir = \"/Users/delmedigo/Dev/langtest/langscrape/data/experiment_08_10_2025/jsons\"\n",
    "files = [os.path.join(root_dir,p) for p in os.listdir(root_dir)]\n",
    "datas = [json.load(open(file)) for file in files]\n",
    "\n",
    "inputs = [\n",
    "    data.get(\"meta_data\", {}).get(\"token_usage\", {}).get(\"summarizer\", {}).get(\"input_tokens\", None) for data in datas\n",
    "]\n",
    "outputs = [\n",
    "    data.get(\"meta_data\", {}).get(\"token_usage\", {}).get(\"summarizer\", {}).get(\"output_tokens\", None) for data in datas\n",
    "]\n",
    "\n",
    "inputs = [e for e in inputs if e]\n",
    "outputs = [e for e in outputs if e]"
   ]
  },
  {
   "cell_type": "code",
   "execution_count": null,
   "id": "74f0c949",
   "metadata": {},
   "outputs": [],
   "source": [
    "print(\"avg input tokens:\", sum(inputs) // len(inputs))\n",
    "print(\"avg output tokens:\", sum(outputs) // len(outputs))"
   ]
  }
 ],
 "metadata": {
  "kernelspec": {
   "display_name": ".env",
   "language": "python",
   "name": "python3"
  },
  "language_info": {
   "codemirror_mode": {
    "name": "ipython",
    "version": 3
   },
   "file_extension": ".py",
   "mimetype": "text/x-python",
   "name": "python",
   "nbconvert_exporter": "python",
   "pygments_lexer": "ipython3",
   "version": "3.13.7"
  }
 },
 "nbformat": 4,
 "nbformat_minor": 5
}
