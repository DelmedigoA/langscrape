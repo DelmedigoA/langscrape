{
 "cells": [
  {
   "cell_type": "code",
   "execution_count": 1,
   "id": "0e76e797",
   "metadata": {},
   "outputs": [],
   "source": [
    "import os\n",
    "import pandas as pd\n",
    "import sys\n",
    "\n",
    "sys.path.append(os.path.abspath(\"..\"))\n",
    "\n",
    "notebook_dir = os.path.dirname(os.getcwd())\n",
    "csv_path = os.path.join(notebook_dir, \"data\", \"links.csv\")\n",
    "\n",
    "df = pd.read_csv(csv_path)"
   ]
  },
  {
   "cell_type": "code",
   "execution_count": 23,
   "id": "51b9786f",
   "metadata": {},
   "outputs": [],
   "source": [
    "def _is_youtube(url):\n",
    "    return \"www.youtube.com\" in url\n",
    "\n",
    "def _is_tiktok(url):\n",
    "    return \"www.tiktok.com\" in url\n",
    "\n",
    "def _is_video(url):\n",
    "    return (_is_tiktok(url) or _is_youtube(url))\n",
    "\n",
    "def _is_pdf(url):\n",
    "    return str(url).lower().endswith(\".pdf\")"
   ]
  },
  {
   "cell_type": "code",
   "execution_count": 24,
   "id": "c20542ff",
   "metadata": {},
   "outputs": [
    {
     "data": {
      "text/plain": [
       "68"
      ]
     },
     "execution_count": 24,
     "metadata": {},
     "output_type": "execute_result"
    }
   ],
   "source": [
    "len(df.loc[df[\"url\"].apply(_is_pdf)])"
   ]
  },
  {
   "cell_type": "code",
   "execution_count": 25,
   "id": "da74a749",
   "metadata": {},
   "outputs": [
    {
     "data": {
      "text/plain": [
       "1"
      ]
     },
     "execution_count": 25,
     "metadata": {},
     "output_type": "execute_result"
    }
   ],
   "source": [
    "len(df.loc[df[\"url\"].apply(_is_tiktok)])"
   ]
  },
  {
   "cell_type": "code",
   "execution_count": 27,
   "id": "a4f05b3b",
   "metadata": {},
   "outputs": [
    {
     "data": {
      "text/plain": [
       "55"
      ]
     },
     "execution_count": 27,
     "metadata": {},
     "output_type": "execute_result"
    }
   ],
   "source": [
    "len(df.loc[df[\"url\"].apply(_is_video)])"
   ]
  },
  {
   "cell_type": "code",
   "execution_count": null,
   "id": "d30f2d09",
   "metadata": {},
   "outputs": [],
   "source": [
    "from langchain_deepseek import ChatDeepSeek\n",
    "from dotenv import load_dotenv\n",
    "import os\n",
    "load_dotenv(\"api_keys.env\")\n",
    "\n",
    "reasoner = ChatDeepSeek(model=\"deepseek-reasoner\", api_key=API_KEY)\n",
    "regular = ChatDeepSeek(model=\"deepseek-chat\", api_key=API_KEY)"
   ]
  },
  {
   "cell_type": "code",
   "execution_count": 22,
   "id": "6d5c4867",
   "metadata": {},
   "outputs": [],
   "source": [
    "prompt = \"provide some dummy json with 3 dummy keys\"\n",
    "reasoner_response = reasoner.invoke(prompt)\n",
    "regular_response = regular.invoke(prompt)"
   ]
  },
  {
   "cell_type": "code",
   "execution_count": 23,
   "id": "682db167",
   "metadata": {},
   "outputs": [
    {
     "data": {
      "text/plain": [
       "(langchain_core.messages.ai.AIMessage, langchain_core.messages.ai.AIMessage)"
      ]
     },
     "execution_count": 23,
     "metadata": {},
     "output_type": "execute_result"
    }
   ],
   "source": [
    "type(regular_response), type(reasoner_response)"
   ]
  },
  {
   "cell_type": "code",
   "execution_count": 24,
   "id": "d484db2f",
   "metadata": {},
   "outputs": [
    {
     "data": {
      "text/plain": [
       "'Here\\'s a dummy JSON object with 3 keys:\\n\\n```json\\n{\\n  \"id\": 12345,\\n  \"name\": \"Example User\",\\n  \"active\": true\\n}\\n```\\n\\nHere\\'s an alternative with different value types:\\n\\n```json\\n{\\n  \"email\": \"user@example.com\",\\n  \"preferences\": [\"notifications\", \"newsletter\"],\\n  \"metadata\": {\\n    \"createdAt\": \"2023-10-05\",\\n    \"lastLogin\": \"2024-01-15\"\\n  }\\n}\\n```\\n\\nAnd another simple example:\\n\\n```json\\n{\\n  \"status\": \"success\",\\n  \"code\": 200,\\n  \"message\": \"Operation completed successfully\"\\n}\\n```\\n\\nAll of these:\\n- Contain exactly 3 keys\\n- Use different value types (strings, numbers, booleans, arrays, objects)\\n- Follow valid JSON syntax\\n- Can be easily parsed by any JSON parser'"
      ]
     },
     "execution_count": 24,
     "metadata": {},
     "output_type": "execute_result"
    }
   ],
   "source": [
    "reasoner_response.content"
   ]
  },
  {
   "cell_type": "code",
   "execution_count": 25,
   "id": "44b64f49",
   "metadata": {},
   "outputs": [
    {
     "data": {
      "text/plain": [
       "'Here\\'s a dummy JSON object with 3 dummy keys:\\n\\n```json\\n{\\n  \"userId\": 12345,\\n  \"username\": \"john_doe\",\\n  \"email\": \"john.doe@example.com\"\\n}\\n```\\n\\nHere are a few more examples with different data types:\\n\\n**Example 1 - Mixed data types:**\\n```json\\n{\\n  \"name\": \"Alice Smith\",\\n  \"age\": 28,\\n  \"isActive\": true\\n}\\n```\\n\\n**Example 2 - Nested structure:**\\n```json\\n{\\n  \"product\": {\\n    \"id\": \"P001\",\\n    \"name\": \"Laptop\",\\n    \"price\": 999.99\\n  }\\n}\\n```\\n\\n**Example 3 - Array values:**\\n```json\\n{\\n  \"tags\": [\"electronics\", \"gadgets\", \"tech\"],\\n  \"count\": 3,\\n  \"available\": false\\n}\\n```\\n\\n**Example 4 - More complex structure:**\\n```json\\n{\\n  \"status\": \"success\",\\n  \"data\": {\\n    \"items\": [\"item1\", \"item2\", \"item3\"],\\n    \"total\": 3\\n  },\\n  \"timestamp\": \"2024-01-15T10:30:00Z\"\\n}\\n```\\n\\nAll of these are valid JSON objects with exactly 3 keys each!'"
      ]
     },
     "execution_count": 25,
     "metadata": {},
     "output_type": "execute_result"
    }
   ],
   "source": [
    "regular_response.content"
   ]
  },
  {
   "cell_type": "code",
   "execution_count": 18,
   "id": "82182857",
   "metadata": {},
   "outputs": [
    {
     "name": "stderr",
     "output_type": "stream",
     "text": [
      "/var/folders/zj/vcffcfjn4tb4v987bwqkl3680000gn/T/ipykernel_56240/269350288.py:1: PydanticDeprecatedSince20: The `dict` method is deprecated; use `model_dump` instead. Deprecated in Pydantic V2.0 to be removed in V3.0. See Pydantic V2 Migration Guide at https://errors.pydantic.dev/2.11/migration/\n",
      "  regular_response.dict().keys()\n"
     ]
    },
    {
     "data": {
      "text/plain": [
       "dict_keys(['content', 'additional_kwargs', 'response_metadata', 'type', 'name', 'id', 'example', 'tool_calls', 'invalid_tool_calls', 'usage_metadata'])"
      ]
     },
     "execution_count": 18,
     "metadata": {},
     "output_type": "execute_result"
    }
   ],
   "source": [
    "regular_response.dict().keys()"
   ]
  },
  {
   "cell_type": "code",
   "execution_count": 20,
   "id": "1d757436",
   "metadata": {},
   "outputs": [
    {
     "name": "stderr",
     "output_type": "stream",
     "text": [
      "/var/folders/zj/vcffcfjn4tb4v987bwqkl3680000gn/T/ipykernel_56240/3416847256.py:1: PydanticDeprecatedSince20: The `dict` method is deprecated; use `model_dump` instead. Deprecated in Pydantic V2.0 to be removed in V3.0. See Pydantic V2 Migration Guide at https://errors.pydantic.dev/2.11/migration/\n",
      "  reasoner_response.dict().keys() == regular_response.dict().keys()\n"
     ]
    },
    {
     "data": {
      "text/plain": [
       "True"
      ]
     },
     "execution_count": 20,
     "metadata": {},
     "output_type": "execute_result"
    }
   ],
   "source": [
    "reasoner_response.dict().keys() == regular_response.dict().keys()"
   ]
  }
 ],
 "metadata": {
  "kernelspec": {
   "display_name": ".env",
   "language": "python",
   "name": "python3"
  },
  "language_info": {
   "codemirror_mode": {
    "name": "ipython",
    "version": 3
   },
   "file_extension": ".py",
   "mimetype": "text/x-python",
   "name": "python",
   "nbconvert_exporter": "python",
   "pygments_lexer": "ipython3",
   "version": "3.13.7"
  }
 },
 "nbformat": 4,
 "nbformat_minor": 5
}
