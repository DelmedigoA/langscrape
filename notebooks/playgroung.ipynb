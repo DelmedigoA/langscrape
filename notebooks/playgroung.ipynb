{
 "cells": [
  {
   "cell_type": "code",
   "execution_count": 8,
   "id": "0e76e797",
   "metadata": {},
   "outputs": [],
   "source": [
    "import os\n",
    "import pandas as pd\n",
    "import sys\n",
    "\n",
    "sys.path.append(os.path.abspath(\"..\"))\n",
    "\n",
    "notebook_dir = os.path.dirname(os.getcwd())\n",
    "csv_path = os.path.join(notebook_dir, \"data\", \"links.csv\")\n",
    "\n",
    "df = pd.read_csv(csv_path)"
   ]
  },
  {
   "cell_type": "code",
   "execution_count": null,
   "id": "0da7e049",
   "metadata": {},
   "outputs": [],
   "source": []
  },
  {
   "cell_type": "code",
   "execution_count": null,
   "id": "51b9786f",
   "metadata": {},
   "outputs": [],
   "source": [
    "def _is_youtube(url):\n",
    "    return \"www.youtube.com\" in url\n",
    "\n",
    "def _is_tiktok(url):\n",
    "    return \"www.tiktok.com\" in url\n",
    "\n",
    "def _is_video(url):\n",
    "    return (_is_tiktok(url) or _is_youtube(url))\n",
    "\n",
    "def _is_pdf(url):\n",
    "    return str(url).lower().endswith(\".pdf\")"
   ]
  },
  {
   "cell_type": "code",
   "execution_count": 24,
   "id": "c20542ff",
   "metadata": {},
   "outputs": [
    {
     "data": {
      "text/plain": [
       "68"
      ]
     },
     "execution_count": 24,
     "metadata": {},
     "output_type": "execute_result"
    }
   ],
   "source": [
    "len(df.loc[df[\"url\"].apply(_is_pdf)])"
   ]
  },
  {
   "cell_type": "code",
   "execution_count": 25,
   "id": "da74a749",
   "metadata": {},
   "outputs": [
    {
     "data": {
      "text/plain": [
       "1"
      ]
     },
     "execution_count": 25,
     "metadata": {},
     "output_type": "execute_result"
    }
   ],
   "source": [
    "len(df.loc[df[\"url\"].apply(_is_tiktok)])"
   ]
  },
  {
   "cell_type": "code",
   "execution_count": 6,
   "id": "a4f05b3b",
   "metadata": {},
   "outputs": [
    {
     "data": {
      "text/plain": [
       "55"
      ]
     },
     "execution_count": 6,
     "metadata": {},
     "output_type": "execute_result"
    }
   ],
   "source": [
    "len(df.loc[df[\"url\"].apply(_is_video)])"
   ]
  },
  {
   "cell_type": "code",
   "execution_count": 24,
   "id": "246e3512",
   "metadata": {},
   "outputs": [],
   "source": [
    "data = json.loads(\"\"\"{\n",
    "  \"meta_data\": {\n",
    "    \"id\": 215,\n",
    "    \"url\": \"https://content.forensic-architecture.org/wp-content/uploads/2024/03/Humanitarian-Violence_Report_FA.pdf\",\n",
    "    \"is_valid_scheme\": true\n",
    "  },\n",
    "  \"extraction\": {},\n",
    "  \"summary\": {\n",
    "    \"title\": \"Humanitarian Violence: Israel's Abuse of Preventative Measures in its 2023-2024 Genocidal Military Campaign in the Occupied Gaza Strip\",\n",
    "    \"author\": \"Forensic Architecture\",\n",
    "    \"publication_date\": \"2024-03-07\",\n",
    "    \"language\": \"English\",\n",
    "    \"type\": \"Official Report\",\n",
    "    \"media\": \"Text\",\n",
    "    \"platform\": \"forensic-architecture.org\",\n",
    "    \"summary\": \"Forensic Architecture's investigation reveals that Israel's evacuation orders, safe zones, and safe corridors in Gaza have functioned as tools of 'humanitarian violence' that facilitated mass displacement, created confusion and panic, and resulted in civilian casualties rather than providing protection as claimed.\",\n",
    "    \"event_start_date\": \"2023-10-08\",\n",
    "    \"event_end_date\": \"2024-02-16\",\n",
    "    \"theme_tags\": [\n",
    "      \"Forced Displacement\",\n",
    "      \"Humanitarian Crisis\",\n",
    "      \"Genocide\",\n",
    "      \"War Crimes\",\n",
    "      \"Evacuation Orders\",\n",
    "      \"Safe Zones\",\n",
    "      \"Humanitarian Aid\",\n",
    "      \"Mass Displacement\",\n",
    "      \"Destruction\",\n",
    "      \"Civilians\",\n",
    "      \"Children\",\n",
    "      \"Women\",\n",
    "      \"Hospitals\",\n",
    "      \"Schools\",\n",
    "      \"Communication Blackout\",\n",
    "      \"Cartographic Terror\",\n",
    "      \"International Humanitarian Law\"\n",
    "    ],\n",
    "    \"countries_and_organizations_tags\": [\n",
    "      \"IDF (Israel Defense Forces)\",\n",
    "      \"UN (United Nations)\",\n",
    "      \"ICJ (International Court of Justice)\",\n",
    "      \"OCHA (UN Office for the Coordination of Humanitarian Affairs)\",\n",
    "      \"UNRWA (The UN Relief and Works Agency for Palestine Refugees)\",\n",
    "      \"MSF - Médecins Sans Frontières (Doctors Without Borders)\",\n",
    "      \"WHO (World Health Organization)\",\n",
    "      \"Forensic Architecture\",\n",
    "      \"COGAT (The Coordination of the Israeli Government Activities in the Territories)\",\n",
    "      \"South Africa\",\n",
    "      \"Al Mezan Center for Human Rights\"\n",
    "    ],\n",
    "    \"location_tags\": [\n",
    "      \"Gaza Strip\",\n",
    "      \"Gaza City\",\n",
    "      \"Northern Gaza\",\n",
    "      \"South Gaza\",\n",
    "      \"Rafah\",\n",
    "      \"Khan Younis\",\n",
    "      \"Deir al Balah\",\n",
    "      \"Al-Mawasi\",\n",
    "      \"Al-Shifa Hospital\",\n",
    "      \"Nasser Hospital\",\n",
    "      \"Wadi Gaza\",\n",
    "      \"Jabaliya\",\n",
    "      \"Shujjaiya\",\n",
    "      \"Zaytun Neighborhood\",\n",
    "      \"Al-Aqsa University\",\n",
    "      \"Salah al-Din Street\"\n",
    "    ],\n",
    "    \"figures_tags\": [\n",
    "      \"Avichay Adraee\",\n",
    "      \"António Guterres\",\n",
    "      \"Eyal Weizman\"\n",
    "    ]\n",
    "  }\n",
    "}\"\"\")"
   ]
  },
  {
   "cell_type": "code",
   "execution_count": 25,
   "id": "60cbb7a7",
   "metadata": {},
   "outputs": [],
   "source": [
    "\n",
    "LOCATIONS = [\n",
    "                \"Al Ahli Baptist Hospital\"\n",
    "                \"Al-Amal Hospital\",\n",
    "                \"Al-Aqsa Hospital\",\n",
    "                \"Al Aqsa University\",\n",
    "                \"Al-Awda Hospital\",\n",
    "                \"Al Azhar University\",\n",
    "                \"Al Buriej\",\n",
    "                \"Al Mawasi\",\n",
    "                \"Al Nazla\",\n",
    "                \"Al-Rantisi Hospital\",\n",
    "                \"Al Rashid Coastal Road\",\n",
    "                \"Al-Shati Refugee Camp\",\n",
    "                \"Al-Shifa Hospital\",\n",
    "                \"Al Yarmouk Stadium Refugee Camp\",\n",
    "                \"Al-Yemen Al-Saeed Hospital\",\n",
    "                \"Ashdod Port\",\n",
    "                \"Beer Sheva\",\n",
    "                \"Beit Hanoun\",\n",
    "                \"Beit Lahiya\",\n",
    "                \"Central Gaza Strip\",\n",
    "                \"Central Israel\",\n",
    "                \"Cyprus\",\n",
    "                \"Damon Prison\",\n",
    "                \"Deir al Balah\",\n",
    "                \"East Jerusalem\",\n",
    "                \"Egypt\",\n",
    "                \"Erez Crossing\",\n",
    "                \"Europe\",\n",
    "                \"Gaza City\",\n",
    "                \"Gaza Strip\",\n",
    "                \"Gilboa Prison\",\n",
    "                \"Hebron\",\n",
    "                \"Iran\",\n",
    "                \"Iraq\",\n",
    "                \"Israel\",\n",
    "                \"Israeli Parliament (Knesset)\",\n",
    "                \"Israeli Prison\",\n",
    "                \"Jabaliya Camp\",\n",
    "                \"Jabaliya City\",\n",
    "                \"Jericho\",\n",
    "                \"Jerusalem\",\n",
    "                \"Jordan\",\n",
    "                \"Jordan Valley\",\n",
    "                \"Kamal Adwan Hospital\",\n",
    "                \"Karni Crossing\",\n",
    "                \"Kerem Shalom Crossing\",\n",
    "                \"Khan Younis\",\n",
    "                \"Khuza'a\",\n",
    "                \"Ktzi'ot Prison\",\n",
    "                \"Lebanon\",\n",
    "                \"Megido Prison\",\n",
    "                \"Mohammed Yousef El-Najar Hospital\",\n",
    "                \"Morag Corridor\",\n",
    "                \"Nablus\",\n",
    "                \"Nasser Hospital\",\n",
    "                \"Negev\",\n",
    "                \"Netzarim Corridor\",\n",
    "                \"Nitzana Border Crossing\",\n",
    "                \"North Gaza\",\n",
    "                \"Northern Israel\",\n",
    "                \"Nur Shams Refugee Camp\",\n",
    "                \"Nuseirat Refugee Camp\",\n",
    "                \"Philadelphi Corridor\",\n",
    "                \"Qalqilya\",\n",
    "                \"Qatar\",\n",
    "                \"Rafah\",\n",
    "                \"Rafah Crossing\",\n",
    "                \"RamallahJabaliya\",\n",
    "                \"Red Cross Field Hospital\",\n",
    "                \"Sde Teiman Detention Center\",\n",
    "                \"Sheikh Radwan\",\n",
    "                \"Shujjaiya\",\n",
    "                \"South Gaza\",\n",
    "                \"Southern Israel\",\n",
    "                \"Tel Aviv\",\n",
    "                \"The European Hospital\",\n",
    "                \"The Indonesian Hospital\",\n",
    "                \"Tul Karem\",\n",
    "                \"Turkish-Palestinian Friendship Hospital\",\n",
    "                \"USA\",\n",
    "                \"West Bank\",\n",
    "                \"Western Negev (Otef)\",\n",
    "                \"Zaytun Neighborhood\",\n",
    "                \"Zikim Crossing\"\n",
    "            ]\n"
   ]
  },
  {
   "cell_type": "code",
   "execution_count": 26,
   "id": "b4901cce",
   "metadata": {},
   "outputs": [],
   "source": [
    "locations = data['summary']['location_tags']"
   ]
  },
  {
   "cell_type": "code",
   "execution_count": 27,
   "id": "c982c285",
   "metadata": {},
   "outputs": [
    {
     "data": {
      "text/plain": [
       "['Gaza Strip',\n",
       " 'Gaza City',\n",
       " 'Northern Gaza',\n",
       " 'South Gaza',\n",
       " 'Rafah',\n",
       " 'Khan Younis',\n",
       " 'Deir al Balah',\n",
       " 'Al-Mawasi',\n",
       " 'Al-Shifa Hospital',\n",
       " 'Nasser Hospital',\n",
       " 'Wadi Gaza',\n",
       " 'Jabaliya',\n",
       " 'Shujjaiya',\n",
       " 'Zaytun Neighborhood',\n",
       " 'Al-Aqsa University',\n",
       " 'Salah al-Din Street']"
      ]
     },
     "execution_count": 27,
     "metadata": {},
     "output_type": "execute_result"
    }
   ],
   "source": [
    "locations"
   ]
  },
  {
   "cell_type": "code",
   "execution_count": 28,
   "id": "a73a22f4",
   "metadata": {},
   "outputs": [
    {
     "data": {
      "text/plain": [
       "[None, None, None, None]"
      ]
     },
     "execution_count": 28,
     "metadata": {},
     "output_type": "execute_result"
    }
   ],
   "source": [
    "[locations.remove(loc) for loc in locations if loc not in LOCATIONS]"
   ]
  },
  {
   "cell_type": "code",
   "execution_count": 29,
   "id": "e47f7afb",
   "metadata": {},
   "outputs": [
    {
     "data": {
      "text/plain": [
       "['Gaza Strip',\n",
       " 'Gaza City',\n",
       " 'South Gaza',\n",
       " 'Rafah',\n",
       " 'Khan Younis',\n",
       " 'Deir al Balah',\n",
       " 'Al-Shifa Hospital',\n",
       " 'Nasser Hospital',\n",
       " 'Jabaliya',\n",
       " 'Shujjaiya',\n",
       " 'Zaytun Neighborhood',\n",
       " 'Salah al-Din Street']"
      ]
     },
     "execution_count": 29,
     "metadata": {},
     "output_type": "execute_result"
    }
   ],
   "source": [
    "locations"
   ]
  },
  {
   "cell_type": "code",
   "execution_count": 1,
   "id": "8680d652",
   "metadata": {},
   "outputs": [],
   "source": [
    "import requests\n",
    "from urllib.parse import urlparse\n",
    "\n",
    "def _get_referer(url: str) -> str:\n",
    "    parsed = urlparse(url)\n",
    "    return f\"{parsed.scheme}://{parsed.netloc}/\"\n",
    "\n",
    "def _get_headers(url: str) -> dict:\n",
    "    return {\n",
    "        \"User-Agent\": (\n",
    "            \"Mozilla/5.0 (Macintosh; Intel Mac OS X 10_15_7) \"\n",
    "            \"AppleWebKit/537.36 (KHTML, like Gecko) \"\n",
    "            \"Chrome/140.0.0.0 Safari/537.36\"\n",
    "        ),\n",
    "        \"Referer\": _get_referer(url),\n",
    "    }\n",
    "\n",
    "def simple_url_to_html(url: str) -> str:\n",
    "    \"\"\"\n",
    "    Download PDF from URL (in-memory), extract, normalize, and return text.\n",
    "    \"\"\"\n",
    "    headers = _get_headers(url)\n",
    "    r = requests.get(url, headers=headers)\n",
    "    return r.content"
   ]
  },
  {
   "cell_type": "code",
   "execution_count": 5,
   "id": "34031e7d",
   "metadata": {},
   "outputs": [
    {
     "ename": "FileNotFoundError",
     "evalue": "[Errno 2] No such file or directory: 'config/default_config.yaml'",
     "output_type": "error",
     "traceback": [
      "\u001b[31m---------------------------------------------------------------------------\u001b[39m",
      "\u001b[31mFileNotFoundError\u001b[39m                         Traceback (most recent call last)",
      "\u001b[36mCell\u001b[39m\u001b[36m \u001b[39m\u001b[32mIn[5]\u001b[39m\u001b[32m, line 1\u001b[39m\n\u001b[32m----> \u001b[39m\u001b[32m1\u001b[39m \u001b[38;5;28;01mfrom\u001b[39;00m\u001b[38;5;250m \u001b[39m\u001b[34;01mlangscrape\u001b[39;00m\u001b[38;5;250m \u001b[39m\u001b[38;5;28;01mimport\u001b[39;00m *\n",
      "\u001b[36mFile \u001b[39m\u001b[32m~/Dev/langtest/langscrape/langscrape/__init__.py:2\u001b[39m\n\u001b[32m      1\u001b[39m \u001b[38;5;28;01mfrom\u001b[39;00m\u001b[38;5;250m \u001b[39m\u001b[34;01m.\u001b[39;00m\u001b[34;01mhtml\u001b[39;00m\u001b[34;01m.\u001b[39;00m\u001b[34;01mutils\u001b[39;00m\u001b[38;5;250m \u001b[39m\u001b[38;5;28;01mimport\u001b[39;00m clean_html_for_extraction3\n\u001b[32m----> \u001b[39m\u001b[32m2\u001b[39m \u001b[38;5;28;01mfrom\u001b[39;00m\u001b[38;5;250m \u001b[39m\u001b[34;01m.\u001b[39;00m\u001b[34;01mbrowser\u001b[39;00m\u001b[34;01m.\u001b[39;00m\u001b[34;01mchrome\u001b[39;00m\u001b[38;5;250m \u001b[39m\u001b[38;5;28;01mimport\u001b[39;00m fetch_html_patchright\n\u001b[32m      4\u001b[39m __all__ = [\n\u001b[32m      5\u001b[39m     \u001b[33m\"\u001b[39m\u001b[33mclean_html_for_extraction3\u001b[39m\u001b[33m\"\u001b[39m,\n\u001b[32m      6\u001b[39m     \u001b[33m\"\u001b[39m\u001b[33mfetch_html_patchright\u001b[39m\u001b[33m\"\u001b[39m,\n\u001b[32m      7\u001b[39m     \u001b[33m\"\u001b[39m\u001b[33mfinal_print\u001b[39m\u001b[33m\"\u001b[39m\n\u001b[32m      8\u001b[39m ]\n",
      "\u001b[36mFile \u001b[39m\u001b[32m~/Dev/langtest/langscrape/langscrape/browser/chrome.py:5\u001b[39m\n\u001b[32m      2\u001b[39m \u001b[38;5;28;01mfrom\u001b[39;00m\u001b[38;5;250m \u001b[39m\u001b[34;01mpatchright\u001b[39;00m\u001b[34;01m.\u001b[39;00m\u001b[34;01masync_api\u001b[39;00m\u001b[38;5;250m \u001b[39m\u001b[38;5;28;01mimport\u001b[39;00m async_playwright\n\u001b[32m      3\u001b[39m \u001b[38;5;28;01mfrom\u001b[39;00m\u001b[38;5;250m \u001b[39m\u001b[34;01m.\u001b[39;00m\u001b[34;01m.\u001b[39;00m\u001b[34;01mutils\u001b[39;00m\u001b[38;5;250m \u001b[39m\u001b[38;5;28;01mimport\u001b[39;00m load_config\n\u001b[32m----> \u001b[39m\u001b[32m5\u001b[39m config = \u001b[43mload_config\u001b[49m\u001b[43m(\u001b[49m\u001b[43m)\u001b[49m\n\u001b[32m      7\u001b[39m USER_DATA_DIR = \u001b[33m\"\u001b[39m\u001b[33m/tmp/patchright-profile\u001b[39m\u001b[33m\"\u001b[39m\n\u001b[32m      9\u001b[39m \u001b[38;5;28;01masync\u001b[39;00m \u001b[38;5;28;01mdef\u001b[39;00m\u001b[38;5;250m \u001b[39m\u001b[34mfetch_html_patchright\u001b[39m(url: \u001b[38;5;28mstr\u001b[39m) -> \u001b[38;5;28mstr\u001b[39m:\n",
      "\u001b[36mFile \u001b[39m\u001b[32m~/Dev/langtest/langscrape/langscrape/utils.py:15\u001b[39m, in \u001b[36mload_config\u001b[39m\u001b[34m(path)\u001b[39m\n\u001b[32m     11\u001b[39m \u001b[38;5;28;01mdef\u001b[39;00m\u001b[38;5;250m \u001b[39m\u001b[34mload_config\u001b[39m(path: \u001b[38;5;28mstr\u001b[39m = \u001b[33m\"\u001b[39m\u001b[33mconfig/default_config.yaml\u001b[39m\u001b[33m\"\u001b[39m) -> \u001b[38;5;28mdict\u001b[39m:\n\u001b[32m     12\u001b[39m \u001b[38;5;250m    \u001b[39m\u001b[33;03m\"\"\"\u001b[39;00m\n\u001b[32m     13\u001b[39m \u001b[33;03m    Load YAML config into a Python dict.\u001b[39;00m\n\u001b[32m     14\u001b[39m \u001b[33;03m    \"\"\"\u001b[39;00m\n\u001b[32m---> \u001b[39m\u001b[32m15\u001b[39m     \u001b[38;5;28;01mwith\u001b[39;00m \u001b[38;5;28;43mopen\u001b[39;49m\u001b[43m(\u001b[49m\u001b[43mPath\u001b[49m\u001b[43m(\u001b[49m\u001b[43mpath\u001b[49m\u001b[43m)\u001b[49m\u001b[43m,\u001b[49m\u001b[43m \u001b[49m\u001b[33;43m\"\u001b[39;49m\u001b[33;43mr\u001b[39;49m\u001b[33;43m\"\u001b[39;49m\u001b[43m,\u001b[49m\u001b[43m \u001b[49m\u001b[43mencoding\u001b[49m\u001b[43m=\u001b[49m\u001b[33;43m\"\u001b[39;49m\u001b[33;43mutf-8\u001b[39;49m\u001b[33;43m\"\u001b[39;49m\u001b[43m)\u001b[49m \u001b[38;5;28;01mas\u001b[39;00m f:\n\u001b[32m     16\u001b[39m         \u001b[38;5;28;01mreturn\u001b[39;00m yaml.safe_load(f)\n",
      "\u001b[31mFileNotFoundError\u001b[39m: [Errno 2] No such file or directory: 'config/default_config.yaml'"
     ]
    }
   ],
   "source": [
    "from langscrape import *"
   ]
  },
  {
   "cell_type": "code",
   "execution_count": null,
   "id": "d95a6fd1",
   "metadata": {},
   "outputs": [],
   "source": [
    "import re\n",
    "from lxml import html as lxml_html, etree\n",
    "from bs4 import BeautifulSoup\n",
    "from feilian.soup_tools import clean_html as feilian_clean_html, extract_html_structure\n",
    "\n",
    "def clean_html_for_extraction3(html_content: str) -> str:\n",
    "    \"\"\"\n",
    "    Hybrid HTML cleaner combining lxml + FeiLian (BeautifulSoup).\n",
    "    \"\"\"\n",
    "\n",
    "    parser = lxml_html.HTMLParser(remove_comments=True)\n",
    "    tree = lxml_html.fromstring(html_content, parser=parser)\n",
    "\n",
    "    # Remove junk tags entirely\n",
    "    remove_tags = [\"script\", \"style\", \"noscript\", \"iframe\", \"form\", \"svg\"]\n",
    "    etree.strip_elements(tree, *remove_tags, with_tail=False)\n",
    "\n",
    "    # Remove elements with ad/tracker keywords in class/id\n",
    "    bad_keywords = [\n",
    "        \"advert\", \"promo\", \"banner\", \"cookie\", \"footer\", \"nav\", \"subscribe\", \"tracking\"\n",
    "    ]\n",
    "    for el in tree.xpath(\"//*\"):\n",
    "        classes = \" \".join(el.get(\"class\", \"\").lower().split())\n",
    "        ids = \" \".join(el.get(\"id\", \"\").lower().split())\n",
    "        if any(word in classes or word in ids for word in bad_keywords):\n",
    "            parent = el.getparent()\n",
    "            if parent is not None:\n",
    "                parent.remove(el)\n",
    "\n",
    "    # Remove empty elements\n",
    "    for el in tree.xpath(\"//*[not(normalize-space()) and not(.//img)]\"):\n",
    "        parent = el.getparent()\n",
    "        if parent is not None:\n",
    "            parent.remove(el)\n",
    "\n",
    "    # Convert to string (pre-cleaned HTML)\n",
    "    precleaned_html = etree.tostring(tree, encoding=\"unicode\", pretty_print=False)\n",
    "\n",
    "    soup = BeautifulSoup(precleaned_html, \"html5lib\")\n",
    "    soup = feilian_clean_html(soup)\n",
    "\n",
    "    # Convert back to string\n",
    "    cleaned_html = str(soup)\n",
    "\n",
    "    cleaned_html = re.sub(r\"\\s+\", \" \", cleaned_html)\n",
    "    return cleaned_html.strip()\n"
   ]
  },
  {
   "cell_type": "code",
   "execution_count": 42,
   "id": "0841d741",
   "metadata": {},
   "outputs": [],
   "source": [
    "import re\n",
    "from lxml import html as lxml_html, etree\n",
    "from bs4 import BeautifulSoup\n",
    "from feilian.soup_tools import clean_html as feilian_clean_html, extract_html_structure\n",
    "\n",
    "def clean_html_for_extraction3(html_content: str) -> str:\n",
    "    \"\"\"\n",
    "    Hybrid HTML cleaner combining lxml + FeiLian (BeautifulSoup).\n",
    "    \"\"\"\n",
    "\n",
    "    soup = BeautifulSoup(html_content, \"html5lib\")\n",
    "    soup = feilian_clean_html(soup)\n",
    "\n",
    "    # Convert back to string\n",
    "    cleaned_html = str(soup)\n",
    "\n",
    "    cleaned_html = re.sub(r\"\\s+\", \" \", cleaned_html)\n",
    "    return cleaned_html.strip()\n"
   ]
  },
  {
   "cell_type": "code",
   "execution_count": 44,
   "id": "61f3af92",
   "metadata": {},
   "outputs": [
    {
     "name": "stdout",
     "output_type": "stream",
     "text": [
      "b'<!DOCTYPE html>\\n<html lang=\"en\" dir=\"ltr\" prefix=\"content: http://purl.org/rss/1.0/modules/content/ dc: http://purl.org/dc/terms/ foaf: http://xmlns.com/foaf/0.1/ og: http://ogp.me/ns# rdfs: http://www.w3.org/2000/01/rdf-schema# sioc: http://rdfs.org/sioc/ns# sioct: http://rdfs.org/sioc/types# skos: http://www.w3.org/2004/02/skos/core# xsd: http://www.w3.org/2001/XMLSchema#\">\\n<head profile=\"http://www.w3.org/1999/xhtml/vocab\">\\n<meta charset=\"utf-8\"/>\\n<meta http-equiv=\"X-UA-Compatible\" content=\"IE=edge,chrome=1\"/>\\n<meta name=\"viewport\" content=\"width=device-width, initial-scale=1.0\"/>\\n<meta http-equiv=\"Content-Type\" content=\"text/html; charset=utf-8\" />\\n<link rel=\"alternate\" type=\"application/rss+xml\" title=\"Latest Statements from the Office of the Spokesperson of the Secretary-General\" href=\"https://www.un.org/sg/en/spokesperson/rss.asp\" />\\n<link rel=\"shortcut icon\" href=\"https://www.un.org/sg/sites/www.un.org.sg/themes/bootstrap_un_sg/favicon.ico\" type=\"image/vnd.microsoft.icon\" />\\n<meta name=\"description\" content=\"Note to Correspondents: on Gaza \\xc2\\xa0 In the past week, Israel carried out devastating strikes on Gaza, claiming the lives of hundreds of civilians, including United Nations personnel, with no humanitarian aid being allowed to\\xc2\\xa0enter the Strip since early March. \\xc2\\xa0 As a result, the Secretary-General has taken the difficult decision to reduce the Organization\\xe2\\x80\\x99s footprint in Gaza,\" />\\n<link rel=\"canonical\" href=\"https://www.un.org/sg/en/content/sg/note-correspondents/2025-03-24/note-correspondents-gaza\" />\\n<link rel=\"shortlink\" href=\"https://www.un.org/sg/en/node/270545\" />\\n<title>Note to Correspondents: on Gaza | United Nations Secretary-General</title>\\n<link type=\"text/css\" rel=\"stylesheet\" href=\"https://www.un.org/sg/sites/www.un.org.sg/files/css/css_5XdaYjCbTPyvdVI9iW-QnY0BD_UBASSW9TnR7q75Alg.css\" media=\"all\" />\\n<link type=\"text/css\" rel=\"stylesheet\" href=\"https://www.un.org/sg/sites/www.un.org.sg/files/css/css_MDf7tmRnoF1YF8iquUiZZe758V104rsFtpWBCX_apHs.css\" media=\"all\" />\\n<link type=\"text/css\" rel=\"stylesheet\" href=\"https://www.un.org/sg/sites/www.un.org.sg/files/css/css__YR52VIvMQOvAPMN2RyJZNfjJlyVH5dsYgbBtVOI1ig.css\" media=\"all\" />\\n<link type=\"text/css\" rel=\"stylesheet\" href=\"//fonts.googleapis.com/css?family=Open+Sans:300,300italic,regular,italic,700,800&amp;subset=cyrillic-ext\" media=\"all\" />\\n<link type=\"text/css\" rel=\"stylesheet\" href=\"//fonts.googleapis.com/css?family=Open+Sans+Condensed:300,700&amp;subset=cyrillic-ext\" media=\"all\" />\\n<link type=\"text/css\" rel=\"stylesheet\" href=\"//fonts.googleapis.com/css?family=Roboto:400,100,100italic,300,300italic,400italic,500,500italic,700,700italic,900,900italic\" media=\"all\" />\\n<link type=\"text/css\" rel=\"stylesheet\" href=\"//fonts.googleapis.com/css?family=Roboto+Condensed:400,700\" media=\"all\" />\\n<link type=\"text/css\" rel=\"stylesheet\" href=\"//fonts.googleapis.com/earlyaccess/droidarabickufi.css\" media=\"all\" />\\n<link type=\"text/css\" rel=\"stylesheet\" href=\"//fonts.googleapis.com/earlyaccess/notonaskharabic.css\" media=\"all\" />\\n<link type=\"text/css\" rel=\"stylesheet\" href=\"//fonts.googleapis.com/css?family=Oswald:400,300,700&amp;subset=latin,latin-ext\" media=\"all\" />\\n<link type=\"text/css\" rel=\"stylesheet\" href=\"https://www.un.org/sg/sites/www.un.org.sg/files/css/css_7Y2xtv1Hq-D4Rnhc7ji-BmJtNsJNnc1L43kGKTDciJ8.css\" media=\"all\" />\\n<link type=\"text/css\" rel=\"stylesheet\" href=\"https://www.un.org/sg/sites/www.un.org.sg/files/css/css_3cK0nTKiOikUI8Af8mV52sE7wxS1deVy_V-XxiSt5zM.css\" media=\"all\" />\\n<link type=\"text/css\" rel=\"stylesheet\" href=\"https://www.un.org/sg/sites/www.un.org.sg/files/css/css_tSCUuPEuD1eF_J8XduE2iup5LebjtnzDMd-_XXKdptE.css\" media=\"print\" />\\n<link type=\"text/css\" rel=\"stylesheet\" href=\"https://use.fontawesome.com/releases/v5.11.2/css/fontawesome.css\" media=\"all\" />\\n<link type=\"text/css\" rel=\"stylesheet\" href=\"https://use.fontawesome.com/releases/v5.11.2/css/solid.css\" media=\"all\" />\\n<link type=\"text/css\" rel=\"stylesheet\" href=\"https://use.fontawesome.com/releases/v5.11.2/css/brands.css\" media=\"all\" />\\n<!-- HTML5 element support for IE6-8 -->\\n<!--[if lt IE 9]>\\n  <script src=\"//html5shiv.googlecode.com/svn/trunk/html5.js\"></script>\\n<![endif]-->\\n<script src=\"https://www.un.org/sg/sites/www.un.org.sg/files/js/js_OcSvuUJdXP9_lZ1eDRWn2VF1uoFMS31-CnLEifKq17Q.js\"></script>\\n<script src=\"//ajax.googleapis.com/ajax/libs/jquery/2.2.4/jquery.min.js\"></script>\\n<script>window.jQuery || document.write(\"<script src=\\'/sg/sites/www.un.org.sg/modules/contrib/jquery_update/replace/jquery/2.2/jquery.min.js\\'>\\\\x3C/script>\")</script>\\n<script src=\"https://www.un.org/sg/sites/www.un.org.sg/files/js/js_GOikDsJOX04Aww72M-XK1hkq4qiL_1XgGsRdkL0XlDo.js\"></script>\\n<script src=\"https://www.un.org/sg/sites/www.un.org.sg/files/js/js_onbE0n0cQY6KTDQtHO_E27UBymFC-RuqypZZ6Zxez-o.js\"></script>\\n<script src=\"https://www.un.org/sg/sites/www.un.org.sg/files/js/js_B6pThuV5LbP2C1-yiRUwhux6t2-_g6YHyv0Cmx1EzKc.js\"></script>\\n<script src=\"http://admin.brightcove.com/js/BrightcoveExperiences.js\"></script>\\n<script src=\"https://www.un.org/sg/sites/www.un.org.sg/files/js/js_308X8G_8h2NrNd0p0E7J4ZFdI3u0DXB4C_bnM_ntsOA.js\"></script>\\n<script>window.a2a_config=window.a2a_config||{};window.da2a={done:false,html_done:false,script_ready:false,script_load:function(){var a=document.createElement(\\'script\\'),s=document.getElementsByTagName(\\'script\\')[0];a.type=\\'text/javascript\\';a.async=true;a.src=\\'https://static.addtoany.com/menu/page.js\\';s.parentNode.insertBefore(a,s);da2a.script_load=function(){};},script_onready:function(){da2a.script_ready=true;if(da2a.html_done)da2a.init();},init:function(){for(var i=0,el,target,targets=da2a.targets,length=targets.length;i<length;i++){el=document.getElementById(\\'da2a_\\'+(i+1));target=targets[i];a2a_config.linkname=target.title;a2a_config.linkurl=target.url;if(el){a2a.init(\\'page\\',{target:el});el.id=\\'\\';}da2a.done=true;}da2a.targets=[];}};(function ($){Drupal.behaviors.addToAny = {attach: function (context, settings) {if (context !== document && window.da2a) {if(da2a.script_ready)a2a.init_all();da2a.script_load();}}}})(jQuery);a2a_config.callbacks=a2a_config.callbacks||[];a2a_config.callbacks.push({ready:da2a.script_onready});a2a_config.overlays=a2a_config.overlays||[];a2a_config.templates=a2a_config.templates||{};a2a_config.no_3p=1;var a2a_config = a2a_config || {};\\r\\na2a_config.no_3p = 1;</script>\\n<script src=\"https://www.un.org/sg/sites/www.un.org.sg/files/js/js_ULCI5fOgIWPzujoTBsnSEI1UVJP6anWyrJCztsvW0Rw.js\"></script>\\n<script src=\"https://www.un.org/sg/sites/www.un.org.sg/files/js/js_A0F41fCOGyVMrIXVg9WGnmArfqa926wSDcTjWxPF0KE.js\"></script>\\n<script>jQuery.extend(Drupal.settings, {\"basePath\":\"\\\\/sg\\\\/\",\"pathPrefix\":\"en\\\\/\",\"setHasJsCookie\":0,\"ajaxPageState\":{\"theme\":\"bootstrap_un_sg\",\"theme_token\":\"Rhotjg9BMy4Ez42vpndTUpS9bNa48IVBIoaj5keUl-g\",\"js\":{\"0\":1,\"sites\\\\/www.un.org.sg\\\\/themes\\\\/bootstrap\\\\/js\\\\/bootstrap.js\":1,\"https:\\\\/\\\\/www.un.org\\\\/sg\\\\/sites\\\\/www.un.org.sg\\\\/files\\\\/google_tag\\\\/sg_container\\\\/google_tag.script.js\":1,\"https:\\\\/\\\\/www.un.org\\\\/sg\\\\/sites\\\\/www.un.org.sg\\\\/files\\\\/google_tag\\\\/un_org_container\\\\/google_tag.script.js\":1,\"\\\\/\\\\/ajax.googleapis.com\\\\/ajax\\\\/libs\\\\/jquery\\\\/2.2.4\\\\/jquery.min.js\":1,\"1\":1,\"misc\\\\/jquery-extend-3.4.0.js\":1,\"misc\\\\/jquery-html-prefilter-3.5.0-backport.js\":1,\"misc\\\\/jquery.once.js\":1,\"misc\\\\/drupal.js\":1,\"sites\\\\/www.un.org.sg\\\\/modules\\\\/contrib\\\\/jquery_update\\\\/js\\\\/jquery_browser.js\":1,\"misc\\\\/form-single-submit.js\":1,\"sites\\\\/www.un.org.sg\\\\/modules\\\\/contrib\\\\/entityreference\\\\/js\\\\/entityreference.js\":1,\"sites\\\\/www.un.org.sg\\\\/modules\\\\/scaldtools\\\\/scald_twitter\\\\/scald_twitter.js\":1,\"http:\\\\/\\\\/admin.brightcove.com\\\\/js\\\\/BrightcoveExperiences.js\":1,\"sites\\\\/www.un.org.sg\\\\/modules\\\\/contrib\\\\/custom_search\\\\/js\\\\/custom_search.js\":1,\"sites\\\\/www.un.org.sg\\\\/modules\\\\/scaldtools\\\\/scald_file\\\\/scald_file.js\":1,\"sites\\\\/www.un.org.sg\\\\/modules\\\\/scaldtools\\\\/scald\\\\/modules\\\\/providers\\\\/scald_image\\\\/scald_image.js\":1,\"2\":1,\"sites\\\\/www.un.org.sg\\\\/libraries\\\\/owlcarousel\\\\/owl.carousel.js\":1,\"sites\\\\/www.un.org.sg\\\\/themes\\\\/bootstrap_un\\\\/js\\\\/bootstrap.min.js\":1,\"sites\\\\/www.un.org.sg\\\\/themes\\\\/bootstrap_un\\\\/js\\\\/bootstrap-add-clear.min.js\":1,\"sites\\\\/www.un.org.sg\\\\/themes\\\\/bootstrap_un\\\\/js\\\\/dropdown.js\":1,\"sites\\\\/www.un.org.sg\\\\/themes\\\\/bootstrap_un\\\\/js\\\\/bootstrap-accessibility.min.js\":1,\"sites\\\\/www.un.org.sg\\\\/themes\\\\/bootstrap_un\\\\/js\\\\/owl-carousel.js\":1,\"sites\\\\/www.un.org.sg\\\\/themes\\\\/bootstrap_un\\\\/js\\\\/functions.js\":1,\"sites\\\\/www.un.org.sg\\\\/themes\\\\/bootstrap_un_sg\\\\/js\\\\/sub.js\":1},\"css\":{\"modules\\\\/system\\\\/system.base.css\":1,\"modules\\\\/field\\\\/theme\\\\/field.css\":1,\"sites\\\\/www.un.org.sg\\\\/modules\\\\/scaldtools\\\\/scald\\\\/modules\\\\/fields\\\\/mee\\\\/css\\\\/editor-global.css\":1,\"modules\\\\/node\\\\/node.css\":1,\"sites\\\\/www.un.org.sg\\\\/modules\\\\/scaldtools\\\\/scald_file\\\\/scald_file.css\":1,\"sites\\\\/www.un.org.sg\\\\/modules\\\\/scaldtools\\\\/scald_twitter\\\\/scald_twitter.css\":1,\"sites\\\\/www.un.org.sg\\\\/modules\\\\/contrib\\\\/views\\\\/css\\\\/views.css\":1,\"sites\\\\/www.un.org.sg\\\\/modules\\\\/contrib\\\\/ckeditor\\\\/css\\\\/ckeditor.css\":1,\"sites\\\\/www.un.org.sg\\\\/modules\\\\/contrib\\\\/ctools\\\\/css\\\\/ctools.css\":1,\"sites\\\\/www.un.org.sg\\\\/modules\\\\/contrib\\\\/panels\\\\/css\\\\/panels.css\":1,\"modules\\\\/locale\\\\/locale.css\":1,\"sites\\\\/www.un.org.sg\\\\/modules\\\\/contrib\\\\/custom_search\\\\/custom_search.css\":1,\"sites\\\\/www.un.org.sg\\\\/modules\\\\/contrib\\\\/date\\\\/date_api\\\\/date.css\":1,\"sites\\\\/www.un.org.sg\\\\/modules\\\\/contrib\\\\/addtoany\\\\/addtoany.css\":1,\"\\\\/\\\\/fonts.googleapis.com\\\\/css?family=Open+Sans:300,300italic,regular,italic,700,800\\\\u0026subset=cyrillic-ext\":1,\"\\\\/\\\\/fonts.googleapis.com\\\\/css?family=Open+Sans+Condensed:300,700\\\\u0026subset=cyrillic-ext\":1,\"\\\\/\\\\/fonts.googleapis.com\\\\/css?family=Roboto:400,100,100italic,300,300italic,400italic,500,500italic,700,700italic,900,900italic\":1,\"\\\\/\\\\/fonts.googleapis.com\\\\/css?family=Roboto+Condensed:400,700\":1,\"\\\\/\\\\/fonts.googleapis.com\\\\/earlyaccess\\\\/droidarabickufi.css\":1,\"\\\\/\\\\/fonts.googleapis.com\\\\/earlyaccess\\\\/notonaskharabic.css\":1,\"\\\\/\\\\/fonts.googleapis.com\\\\/css?family=Oswald:400,300,700\\\\u0026subset=latin,latin-ext\":1,\"sites\\\\/www.un.org.sg\\\\/libraries\\\\/owlcarousel\\\\/owl.carousel.css\":1,\"sites\\\\/www.un.org.sg\\\\/libraries\\\\/owlcarousel\\\\/owl.theme.css\":1,\"sites\\\\/www.un.org.sg\\\\/libraries\\\\/owlcarousel\\\\/owl.transitions.css\":1,\"sites\\\\/www.un.org.sg\\\\/themes\\\\/bootstrap_un\\\\/css\\\\/bootstrap-accessibility.css\":1,\"sites\\\\/www.un.org.sg\\\\/themes\\\\/bootstrap_un\\\\/css\\\\/main.css\":1,\"sites\\\\/www.un.org.sg\\\\/themes\\\\/bootstrap_un_sg\\\\/css\\\\/sub.css\":1,\"sites\\\\/www.un.org.sg\\\\/themes\\\\/bootstrap_un_sg\\\\/css\\\\/print.css\":1,\"https:\\\\/\\\\/use.fontawesome.com\\\\/releases\\\\/v5.11.2\\\\/css\\\\/fontawesome.css\":1,\"https:\\\\/\\\\/use.fontawesome.com\\\\/releases\\\\/v5.11.2\\\\/css\\\\/solid.css\":1,\"https:\\\\/\\\\/use.fontawesome.com\\\\/releases\\\\/v5.11.2\\\\/css\\\\/brands.css\":1}},\"custom_search\":{\"form_target\":\"_self\",\"solr\":0},\"scaldFile\":{\"path\":\"sites\\\\/www.un.org.sg\\\\/modules\\\\/scaldtools\\\\/scald_file\\\\/scald_file.css\"},\"better_exposed_filters\":{\"views\":{\"statements_on_date\":{\"displays\":{\"block\":{\"filters\":[]}}}}},\"urlIsAjaxTrusted\":{\"\\\\/sg\\\\/en\\\\/content\\\\/sg\\\\/note-correspondents\\\\/2025-03-24\\\\/note-correspondents-gaza\":true},\"bootstrap\":{\"anchorsFix\":\"0\",\"anchorsSmoothScrolling\":\"0\",\"formHasError\":1,\"popoverEnabled\":0,\"popoverOptions\":{\"animation\":1,\"html\":0,\"placement\":\"right\",\"selector\":\"\",\"trigger\":\"click\",\"triggerAutoclose\":1,\"title\":\"\",\"content\":\"\",\"delay\":0,\"container\":\"body\"},\"tooltipEnabled\":0,\"tooltipOptions\":{\"animation\":1,\"html\":0,\"placement\":\"auto left\",\"selector\":\"\",\"trigger\":\"hover focus\",\"delay\":0,\"container\":\"body\"}}});</script>\\n</head>\\n<body class=\"html not-front not-logged-in one-sidebar sidebar-second page-node page-node- page-node-270545 node-type-statement sg-section i18n-en\" >\\n  <div id=\"skip-link\">\\n    <a href=\"#main-content\" rel=\"nofollow\" class=\"element-invisible element-focusable\">Skip to main content</a>\\n  </div>\\n  <noscript aria-hidden=\"true\"><iframe src=\"https://www.googletagmanager.com/ns.html?id=GTM-5S7JX8L\" height=\"0\" width=\"0\" style=\"display:none;visibility:hidden\"></iframe></noscript>\\n<noscript aria-hidden=\"true\"><iframe src=\"https://www.googletagmanager.com/ns.html?id=GTM-LQCS\" height=\"0\" width=\"0\" style=\"display:none;visibility:hidden\"></iframe></noscript>\\n  <div id=\"brand-bar\" class=\"navbar navbar-default navbar-fixed-top\" role=\"navigation\" aria-label=\"Language Selector\"><!-- UN global brand bar -->\\n  <div class=\"container brandbar-header\">\\n    <div class=\"row\">\\n      <!-- Brand and toggle get grouped for better mobile display -->\\n      <div class=\"col-md-4 pull-left flip\">\\n              <a class=\"navbar-brand pull-left flip\" href=\"https://www.un.org/en/\"><i class=\"fas fa-home\"></i> Welcome to the United Nations</a>\\n              </div><!-- /UN global brand bar -->\\n\\n      \\n    </div> <!-- /.row -->\\n  </div><!-- /.container -->\\n</div><!-- /UN global brand bar and language switcher --><header id=\"navbar\" role=\"banner\" class=\"navbar container navbar-default\">\\n\\t<div class=\"container\">\\n\\t\\t<div class=\"navbar-header\">\\n\\t\\n\\t\\t\\t\\t<div class=\"header pull-left flip vertical-align\">\\n\\t\\t\\t\\t\\t<div class=\"pull-left flip logo-wrapper\"><!-- logo wrapper -->\\n\\t\\t\\t\\t\\t\\t<a class=\"logo navbar-btn logo-default\" href=\"/sg/en/\" title=\"Home\">\\n\\t\\t\\t\\t\\t\\t\\t\\t\\t\\t\\t\\t<img src=\"/sg/sites/www.un.org.sg/themes/bootstrap_un/images/logo-en.svg\" alt=\"United Nations\" class=\"img-responsive un-logo-image\" />\\n\\t\\t\\t\\t\\t\\t</a>\\n\\t\\t\\t\\t\\t</div><!-- /logo wrapper -->\\n\\n\\t\\t\\t\\t\\t<div class=\"pull-left flip site-name-wrapper\">\\n\\t\\t\\t\\t\\t\\t\\t\\t\\t\\t\\t\\t\\t<a class=\"site-name\" href=\"/sg/en/\" title=\"Home\">Secretary-General</a>\\n\\t\\t\\t\\t\\t\\t\\t\\t\\t\\t\\t\\t\\t\\t\\t\\t\\t</div>\\n\\n\\t\\t\\t\\t</div>\\n\\n\\t\\t\\t\\t<!-- Search box Desktop -->\\n\\t\\t\\t\\t<div class=\"search-form  col-xs-10 col-md-3 pull-right flip\">\\n\\t\\t\\t\\t\\t    <section class=\"region region-search\">\\n    <section id=\"block-search-form\" class=\"block block-search clearfix\">\\n\\n      \\n  <form class=\"search-form form-search content-search\" role=\"search\" action=\"/sg/en/content/sg/note-correspondents/2025-03-24/note-correspondents-gaza\" method=\"post\" id=\"search-block-form\" accept-charset=\"UTF-8\"><div><div>\\n      <h2 class=\"element-invisible\">Search the United Nations</h2>\\n    <div class=\"input-group\"><input title=\"Enter the terms you wish to search for.\" class=\"custom-search-box form-control form-text\" placeholder=\"Search\" type=\"search\" id=\"edit-search-block-form--2\" name=\"search_block_form\" value=\"\" size=\"15\" maxlength=\"128\" /><span class=\"input-group-btn\"><button type=\"submit\" class=\"btn btn-primary\" aria-label=\"Search button\"><span class=\"icon glyphicon glyphicon-search\" aria-hidden=\"true\"></span></button></span></div><div class=\"form-actions form-wrapper form-group\" id=\"edit-actions\"><button class=\"element-invisible btn btn-primary form-submit\" type=\"submit\" id=\"edit-submit\" name=\"op\" value=\"Search\">Search</button>\\n</div><input type=\"hidden\" name=\"form_build_id\" value=\"form-f-IjtSmhK_-bVMEJdxFqSdpklqOxktOzIKjXLtkOngs\" />\\n<input type=\"hidden\" name=\"form_id\" value=\"search_block_form\" />\\n<input type=\"hidden\" name=\"custom_search_paths\" value=\"search/node/[key]\" />\\n  <div class=\"site-index advanced-search pull-right flip\"><a href=\"https://www.un.org/en/site-index\">A-Z Site Index</a></div>\\n</div></div></form>\\n</section>\\n    </section>\\n\\t\\t\\t\\t</div>\\n\\n\\t\\t\\t\\t<div class=\"mobile-menu-toggle col-md-10 col-sm-1 col-xs-2 pull-left flip\">\\n\\t\\t\\t\\t<!-- .btn-navbar is used as the toggle for collapsed navbar content -->\\n\\t\\t\\t\\t<button id=\"main-menu-toggle\" type=\"button\" class=\"navbar-toggle\" data-toggle=\"collapse\" data-target=\"#main-menu\">\\n\\t\\t\\t\\t\\t<span class=\"sr-only\">Toggle navigation</span>\\n\\t\\t\\t\\t\\t<span class=\"icon-bar\"></span>\\n\\t\\t\\t\\t\\t<span class=\"icon-bar\"></span>\\n\\t\\t\\t\\t\\t<span class=\"icon-bar\"></span>\\n\\t\\t\\t\\t</button>\\n\\t\\t\\t\\t</div>\\n\\t\\t\\t\\n\\t\\t</div> <!-- /.navbar-header -->\\n    \\n\\t\\t<div class=\"row menu-wrapper\">\\n\\t\\t\\t<div class=\"col-lg-12\">\\n\\t\\t\\t\\t\\t\\t\\t\\t\\t\\t<div id=\"main-menu\" class=\"navbar-collapse collapse\">\\n\\t\\t\\t\\t\\t<nav role=\"navigation\">\\n\\t\\t\\t\\t\\t\\t\\t\\t\\t\\t\\t<ul class=\"menu nav navbar-nav\"><li class=\"first leaf\"><a href=\"/sg/en\">Home</a></li>\\n<li class=\"expanded dropdown\"><a class=\"dropdown-toggle nolink\" data-toggle=\"dropdown\" tabindex=\"0\">About <span class=\"caret\"></span></a><ul class=\"dropdown-menu\"><li class=\"first leaf\"><a href=\"/sg/en/content/sg/biography\">Biography</a></li>\\n<li class=\"leaf\"><a href=\"/sg/en/content/the-role-of-the-secretary-general\">The role of the Secretary-General</a></li>\\n<li class=\"last leaf\"><a href=\"/sg/en/appointment-process\">Appointment process</a></li>\\n</ul></li>\\n<li class=\"expanded dropdown\"><a class=\"dropdown-toggle nolink\" data-toggle=\"dropdown\" tabindex=\"0\">Vision <span class=\"caret\"></span></a><ul class=\"dropdown-menu\"><li class=\"first leaf\"><a href=\"https://www.un.org/sg/sites/www.un.org.sg/files/atoms/files/guterres_VisionStatement_2021.pdf\">Vision Statement 2021</a></li>\\n<li class=\"leaf\"><a href=\"/sg/en/content/sg/speeches/2016-12-12/secretary-general-designate-ant%C3%B3nio-guterres-oath-office-speech\">Swearing-in (12 December 2016)</a></li>\\n<li class=\"collapsed\"><a href=\"/sg/en/content/sg/speeches/2016-10-13/appointment-general-assembly-position-secretary-general-united\">Appointment (13 October 2016)</a></li>\\n<li class=\"last collapsed\"><a href=\"http://www.un.org/pga/70/wp-content/uploads/sites/10/2016/01/4-April_Secretary-General-Election-Vision-Statement_Portugal-4-April-20161.pdf#page=4\">Nomination (4 April 2016)</a></li>\\n</ul></li>\\n<li class=\"expanded dropdown\"><a class=\"dropdown-toggle nolink\" data-toggle=\"dropdown\" tabindex=\"0\">The Team <span class=\"caret\"></span></a><ul class=\"dropdown-menu\"><li class=\"first collapsed\"><a href=\"/sg/en/dsg/index.shtml\">Deputy Secretary-General</a></li>\\n<li class=\"leaf\"><a href=\"/sg/en/content/senior-management-group\">Senior Management Group</a></li>\\n<li class=\"leaf\"><a href=\"/sg/en/global-leadership/home\" title=\"Global Leadership Overview\">Global Leadership Team</a></li>\\n<li class=\"leaf\"><a href=\"/sg/en/content/sg/personnel-appointments\">Appointments since 1 January 2017</a></li>\\n<li class=\"leaf\"><a href=\"/sg/en/content/senior-leadership-talent-pool\">Senior Leadership Talent Pool</a></li>\\n<li class=\"last leaf\"><a href=\"/sg/en/vacancies/index.shtml\">Senior Leadership Vacancies</a></li>\\n</ul></li>\\n<li class=\"expanded dropdown\"><a class=\"dropdown-toggle nolink\" data-toggle=\"dropdown\" tabindex=\"0\">Daily Agenda <span class=\"caret\"></span></a><ul class=\"dropdown-menu\"><li class=\"first leaf\"><a href=\"/sg/en/content/sg/appointments-secretary-general\">Public Schedule</a></li>\\n<li class=\"last leaf\"><a href=\"/sg/en/content/travels\">Official Travels</a></li>\\n</ul></li>\\n<li class=\"expanded dropdown\"><a class=\"dropdown-toggle nolink\" data-toggle=\"dropdown\" tabindex=\"0\">Statements/Reports <span class=\"caret\"></span></a><ul class=\"dropdown-menu\"><li class=\"first leaf\"><a href=\"https://www.un.org/sg/en/latest/sg/statement\">All statements</a></li>\\n<li class=\"leaf\"><a href=\"https://www.un.org/annualreport/\">Annual Report on the Work of the Organization</a></li>\\n<li class=\"leaf\"><a href=\"https://bit.ly/3amLieW\">Reports to the Security Council</a></li>\\n<li class=\"leaf\"><a href=\"https://bit.ly/2vwKC89\">Reports to the General Assembly</a></li>\\n<li class=\"last leaf\"><a href=\"https://bit.ly/2TzbVXc\">Reports to the ECOSOC</a></li>\\n</ul></li>\\n<li class=\"last expanded dropdown\"><a class=\"dropdown-toggle nolink\" data-toggle=\"dropdown\" tabindex=\"0\">Media <span class=\"caret\"></span></a><ul class=\"dropdown-menu\"><li class=\"first leaf\"><a href=\"/sg/en/spokesperson\">Spokesperson&#039;s Office</a></li>\\n<li class=\"leaf\"><a href=\"/sg/en/latest/sg/statement\">Statements</a></li>\\n<li class=\"leaf\"><a href=\"/sg/en/content/sg/statements-attributable-spokesman-secretary-general\">Statements attributable to the Spokesperson</a></li>\\n<li class=\"leaf\"><a href=\"/sg/en/content/sg/press-articles-and-opinion-pieces\">Opinion pieces/op-eds</a></li>\\n<li class=\"leaf\"><a href=\"http://www.un.org/press/en/content/secretary-general/press-release\">Press Releases</a></li>\\n<li class=\"last leaf\"><a href=\"http://www.unmultimedia.org/photo/gallery.jsp?mode=auto&amp;query=category%3A%22Secretary-General%22%20NOT%20category%3ATrips\">Photos</a></li>\\n</ul></li>\\n</ul>\\t\\t\\t\\t\\t\\t\\t\\t\\t\\t\\t\\t\\t\\t\\t\\t\\t\\t\\t\\t</nav>\\n\\n\\t\\t\\t\\t\\t<div class=\"clearfix\"></div>\\n\\t\\t\\t\\t</div>\\n\\t\\t\\t\\t\\t\\t</div>\\n\\t\\t</div>\\n\\n  \\t</div> <!-- /.container -->\\n</header>\\n<div class=\"main-container container\">\\n\\n  <header role=\"banner\" id=\"page-header\">\\n      </header> <!-- /#page-header -->\\n  \\n  <div class=\"row\">\\n    <div class=\"col-md-12\">\\n                          </div>\\n  </div>\\n\\n  <div class=\"row\">\\n    <section class=\"col-md-12 xs-hidden\">\\n               </section>\\n  </div>\\n  \\n  <div class=\"row body-container\">\\n\\n    \\n    <section class=\"col-sm-9\">\\n      <a id=\"main-content\"></a>\\n                            <section class=\"region region-content\">\\n    <section id=\"block-system-main\" class=\"block block-system clearfix\">\\n\\n      \\n  \\n<div id=\"node-270545\" class=\"statement node node-statement node-full clearfix\" about=\"/sg/en/content/sg/note-correspondents/2025-03-24/note-correspondents-gaza\" typeof=\"sioc:Item foaf:Document\">\\n\\n    <!-- regular node view template HTML here -->  \\n\\n<div class=\"row\">\\n    <section class=\"col-md-12 xs-hidden\">\\n         </section>\\n  </div>\\n\\n  <h4 class=\"field field-name-field-city-location\">\\n\\t    \\t\\tNew York\\t\\t  </h4>\\n  <h4 class=\"date-display-single\">\\n  \\t<span  property=\"dc:date\" datatype=\"xsd:dateTime\" content=\"2025-03-24T00:00:00-04:00\" class=\"date-display-single\">24 March 2025</span>  </h4>\\n\\t\\n  <h2>Note to Correspondents: on Gaza</h2>\\n\\n    <h4 class=\"field field-name-field_statement_of\">St\\xc3\\xa9phane Dujarric, Spokesman for the Secretary-General</h4>\\n  \\n    <div class=\"content\">\\n    <div class=\"field field-name-body field-type-text-with-summary field-label-hidden\"><div class=\"field-items\"><div class=\"field-item even\" property=\"content:encoded\"><div class=\"rtecenter\"><strong>Note to Correspondents: on Gaza</strong></div>\\n<p>\\xc2\\xa0<br />\\nIn the past week, Israel carried out devastating strikes on Gaza, claiming the lives of hundreds of civilians, including United Nations personnel, with no humanitarian aid being allowed to\\xc2\\xa0enter the Strip since early March.<br />\\n\\xc2\\xa0<br />\\nAs a result, the Secretary-General has taken the difficult decision to reduce the Organization\\xe2\\x80\\x99s footprint in Gaza, even as humanitarian needs soar and our concern over the protection of civilians intensifies.<br />\\n\\xc2\\xa0<br />\\nThe UN is not leaving Gaza. The Organization remains committed to continuing to provide aid that civilians depend on for their survival and protection.<br />\\n\\xc2\\xa0<br />\\nMore than three weeks ago, the Israeli Government cut off the entry of humanitarian aid into Gaza \\xe2\\x80\\x93 the longest such suspension since 7 October 2023.<br />\\n\\xc2\\xa0<br />\\nIsraeli officials have indicated that they intend to continue their military activities in Gaza.<br />\\n\\xc2\\xa0<br />\\nBased on the information currently available, the strikes hitting a UN compound in Deir Al Balah on 19 March were caused by an Israeli tank. The strikes\\xc2\\xa0claimed the life of a UN colleague from Bulgaria and left six others \\xe2\\x80\\x93 from France, Moldova, North Macedonia, Palestine and the United Kingdom \\xe2\\x80\\x93 with severe injuries, some of them life-altering.<br />\\n\\xc2\\xa0<br />\\nThe location of this UN compound was well known to the parties to the conflict. I reiterate that all parties to the conflict are bound by international law to protect the absolute inviolability of UN premises. Without this, our colleagues face intolerable risks as they work to save the lives of civilians.<br />\\n\\xc2\\xa0<br />\\nThe Secretary-General\\xc2\\xa0strongly condemns\\xc2\\xa0these strikes and demands\\xc2\\xa0a full, thorough and independent investigation on this incident.<br />\\n\\xc2\\xa0<br />\\nAll parties must comply fully with international law at all times. Civilians must be respected and protected. The denial of lifesaving aid must end. The hostages must be released immediately and unconditionally.<br />\\n\\xc2\\xa0<br />\\nAll States must use all their leverage to stop the conflict and ensure respect for international law \\xe2\\x80\\x93 by applying diplomatic and economic pressure and combating impunity.<br />\\n\\xc2\\xa0<br />\\nThe Secretary-General\\xc2\\xa0renews his\\xc2\\xa0urgent call for the restoration of the ceasefire to bring an end to the anguish.</p>\\n<p>\\xc2\\xa0</p>\\n</div></div></div>  </div>\\n\\n\\n  \\n</div>\\n</section>\\n    </section>\\n          </section>\\n\\n          <aside class=\"col-sm-3 sidebar sidebar-second\">\\n            <section class=\"region region-sidebar-second\">\\n    <section id=\"block-menu-block-9\" class=\"block block-menu-block clearfix\">\\n\\n        <h2 class=\"block-title\">Statements</h2>\\n    \\n  <div class=\"menu-block-wrapper menu-block-9 menu-name-menu-ossg parent-mlid-5439 menu-level-1\">\\n  <ul class=\"menu nav\"><li class=\"first last leaf menu-mlid-5442\"><a href=\"/sg/en/latest/sg/statement\">Latest Statements</a></li>\\n</ul></div>\\n\\n</section>\\n<section id=\"block-addtoany-addtoany-button\" class=\"block block-addtoany clearfix\">\\n\\n      \\n  <span class=\"a2a_kit a2a_target addtoany_list\" id=\"da2a_1\">\\n      <a class=\"a2a_button_facebook\"></a>\\r\\n<a class=\"a2a_button_twitter\"></a>\\r\\n<a class=\"a2a_button_google_plus\"></a>\\r\\n<a class=\"a2a_button_pinterest\"></a>\\n      <a class=\"a2a_dd addtoany_share_save\" href=\"https://www.addtoany.com/share#url=https%3A%2F%2Fwww.un.org%2Fsg%2Fen%2Fcontent%2Fsg%2Fnote-correspondents%2F2025-03-24%2Fnote-correspondents-gaza&amp;title=Note%20to%20Correspondents%3A%20on%20Gaza\"></a>\\n      \\n    </span>\\n    <script type=\"text/javascript\">\\n<!--//--><![CDATA[//><!--\\nif(window.da2a)da2a.script_load();\\n//--><!]]>\\n</script>\\n</section>\\n    </section>\\n      </aside>  <!-- /#sidebar-second -->\\n    \\n  </div>\\n</div>\\n\\n\\n\\n\\n\\n<!--prefooter region -->\\n<div class=\"section section-fluid home-footer pre-footer\">  \\n  <div class=\"container\"> \\n      <div class=\"row topmargin\">\\n        <div class=\"divider\"></div>\\n\\t\\t    <section class=\"region region-footer\">\\n    <section id=\"block-block-34\" class=\"block block-block clearfix\">\\n\\n      \\n  <style>\\n/* Adjust Scald presentation of images */\\n.atom-align-left {\\n     margin-right: 20px;\\n    margin-top: 10px;\\n}\\n.atom-align-right {\\n     margin-left: 20px;\\n    margin-top: 10px;\\n}\\n.kaltura-player {\\n   width:480px;\\n}\\n\\nblockquote.field.floating-quote.field_sgspeech_quote:blank,\\nblockquote.field.floating-quote.field_sgspeech_quote:empty {\\n    display: none;\\n}\\n\\n/* Adjust main menu item width per language: */\\nbody.i18n-ar #main-menu nav ul.navbar-nav > li {\\n    min-width: 140px;\\n}\\nbody.i18n-fr #main-menu nav ul.navbar-nav > li {\\n    min-width: 140px;\\n}\\nbody.i18n-ru #main-menu nav ul.navbar-nav > li {\\n    min-width: 130px;\\n}\\nbody.i18n-ar #footer-tags,\\nbody.i18n-zh-hans #footer-tags,\\nbody.i18n-fr #footer-tags,\\nbody.i18n-es #footer-tags,\\nbody.i18n-en #footer-tags,\\nbody.i18n-ru #footer-tags\\n{ display:none; }\\n\\n/* Correct Chinese Font Size */\\nbody.i18n-zh-hans header.navbar-default .site-name { font-size:42px; }\\nbody.i18n-zh-hans #main-menu nav ul.navbar-nav > li > a { font-size:18px; }\\nbody.i18n-zh-hans #main-menu nav ul.navbar-nav .dropdown-menu li a { font-size:16px; }\\nbody.i18n-zh-hans h1, body.i18n-zh-hans .h1 { font-size:30px; }\\nbody.i18n-zh-hans .main-container .body-container section.col-sm-9 h4,\\nbody.i18n-zh-hans h4, body.i18n-zh-hans .h4 { font-size:20px; line-height: 24px; }\\n\\n\\n/* en-link for links in body and footer... but with overrides so it does not show up twice in the menu... */\\n.en-link, a.en-link {\\n  background: url(/sg/sites/www.un.org.sg/themes/bootstrap_un/images/icon-en.gif) no-repeat right -1px;\\n  padding-right: 17px !important;\\n}\\nbody.i18n-ar .en-link,\\nbody.i18n-ar a.en-link {\\n  background-position: left -3px;\\n  padding-right: 0 !important;\\n  padding-left: 17px !important;\\n}\\nbody.i18n-ar #main-menu .en-link,\\nbody.i18n-ar #main-menu a.en-link {\\n  background-position: left -3px;\\n  padding-right: 17px !important;\\n  padding-left: 0 !important;\\n}\\nbody.i18n-ar .profile .content .profile-photo {\\n    float: right;\\n    margin: 0 0px 20px 20px;\\n}\\n.en-link:hover, a.en-link:hover {\\nbackground: url(/sg/sites/www.un.org.sg/themes/bootstrap_un/images/icon-en.gif) no-repeat right -1px !important;\\n}\\nbody.i18n-ar .en-link:hover, body.i18n-ar a.en-link:hover {\\nbackground-position: left -3px !important;\\n}\\n.footer .en-link, .footer a.en-link {\\ndisplay: inline-block;\\n}\\n#main-menu nav ul.navbar-nav .dropdown-menu li a.en-link { background: none; padding:3px 20px 3px 10px;margin:0; }\\n#main-menu nav ul.navbar-nav .dropdown-menu li a.en-link:hover { background: white !important; }\\n\\n\\n/* improve EN-link alignment in main menu */\\nbody.i18n-ar #main-menu nav ul.navbar-nav .dropdown-menu li a.en-link:after { margin-right: 4px; }\\n\\n\\nbody.i18n-ar blockquote.floating-quote,\\nbody.i18n-fr blockquote.floating-quote,\\nbody.i18n-es blockquote.floating-quote,\\nbody.i18n-zh-hans blockquote.floating-quote,\\nbody.i18n-ru blockquote.floating-quote\\n{\\ndisplay:none;\\n}\\n\\n\\n@media (min-width: 768px) {\\nbody.i18n-ar  .quote-text p:after {\\n    bottom: -8px;\\n    right: initial;\\n    left: 8px;\\n}}\\n\\nbody.i18n-zh-hans footer.footer .col-md-4 h2.block-title {\\n    margin-top: 12px;\\n}\\n\\nbody.page-node-171185 .pane-views-3bb5b1866a970a58324018541c9d6ab5 { display: none;}\\nbody.i18n-en.page-node-171185 .pane-views-3bb5b1866a970a58324018541c9d6ab5 { display: block;}\\n\\n#main-menu nav ul.navbar-nav>li>a {\\n    text-transform: initial!important; \\n}\\n\\n</style>\\n\\n<script>\\njQuery(\\'blockquote\\').each(function(i,e){ if(e.innerText.length==0){e.style.display=\\'none\\';} });\\n</script>\\n</section>\\n<section id=\"block-menu-block-5\" class=\"block block-menu-block un-condensed col-xs-12 col-md-3 clearfix\">\\n\\n        <h2 class=\"block-title\">On the Job</h2>\\n    \\n  <div class=\"menu-block-wrapper menu-block-5 menu-name-menu-sg-footer-menu parent-mlid-6218 menu-level-1\">\\n  <ul class=\"menu nav\"><li class=\"first leaf menu-mlid-6219\"><a href=\"/sg/en/content/sg/appointments-secretary-general\">Daily Schedule</a></li>\\n<li class=\"leaf menu-mlid-6221\"><a href=\"/sg/en/appointment-process\">Appointment Process</a></li>\\n<li class=\"leaf menu-mlid-6222\"><a href=\"/sg/en/content/the-role-of-the-secretary-general\">Role of the Secretary-General</a></li>\\n<li class=\"leaf has-children menu-mlid-6223\"><a href=\"/sg/en/content/former-secretaries-general\">Former Secretaries-General</a></li>\\n<li class=\"last leaf menu-mlid-6220\"><a href=\"/sg/en/content/travels\">Official Travels</a></li>\\n</ul></div>\\n\\n</section>\\n<section id=\"block-menu-block-6\" class=\"block block-menu-block un-condensed col-xs-12 col-md-3 clearfix\">\\n\\n        <h2 class=\"block-title\">The Team</h2>\\n    \\n  <div class=\"menu-block-wrapper menu-block-6 menu-name-menu-sg-footer-menu parent-mlid-6224 menu-level-1\">\\n  <ul class=\"menu nav\"><li class=\"first leaf menu-mlid-6226\"><a href=\"/sg/en/dsg/index.shtml\">Deputy Secretary-General</a></li>\\n<li class=\"leaf menu-mlid-6228\"><a href=\"/sg/en/content/senior-management-group\">Senior Management Group</a></li>\\n<li class=\"leaf menu-mlid-18632\"><a href=\"/sg/en/global-leadership/home\">Global Leadership</a></li>\\n<li class=\"last leaf menu-mlid-6230\"><a href=\"http://outreach.un.org/mop/\">Messengers of Peace</a></li>\\n</ul></div>\\n\\n</section>\\n<section id=\"block-menu-block-7\" class=\"block block-menu-block un-condensed col-xs-12 col-md-3 clearfix\">\\n\\n        <h2 class=\"block-title\">Resources</h2>\\n    \\n  <div class=\"menu-block-wrapper menu-block-7 menu-name-menu-sg-footer-menu parent-mlid-6225 menu-level-1\">\\n  <ul class=\"menu nav\"><li class=\"first leaf menu-mlid-15846\"><a href=\"https://www.un.org/annualreport/\">Annual Report on the Work of the Organization</a></li>\\n<li class=\"leaf menu-mlid-13554\"><a href=\"/sg/en/multilingualism/index.shtml\">Coordinator for Multilingualism</a></li>\\n<li class=\"leaf menu-mlid-6232\"><a href=\"/sg/en/content/public-disclosure\">Public Disclosure</a></li>\\n<li class=\"leaf menu-mlid-6233\"><a href=\"/sg/en/content/sg/press-articles-and-opinion-pieces\">Opinion pieces/Op-eds</a></li>\\n<li class=\"last leaf menu-mlid-6235\"><a href=\"https://dam.media.un.org/CS.aspx?VP3=DamView&amp;VBID=2AM94S3K9TL&amp;FR_=1&amp;W=1366&amp;H=626\">Photos</a></li>\\n</ul></div>\\n\\n</section>\\n<section id=\"block-menu-block-8\" class=\"block block-menu-block un-condensed col-xs-12 col-md-3 clearfix\">\\n\\n        <h2 class=\"block-title\">Quicklinks</h2>\\n    \\n  <div class=\"menu-block-wrapper menu-block-8 menu-name-menu-sg-footer-menu parent-mlid-6236 menu-level-1\">\\n  <ul class=\"menu nav\"><li class=\"first leaf menu-mlid-6238\"><a href=\"http://www.un.org/news/\">UN News</a></li>\\n<li class=\"leaf menu-mlid-6237\"><a href=\"//www.un.org/en/sections/about-un/secretariat/\">Secretariat</a></li>\\n<li class=\"leaf menu-mlid-6239\"><a href=\"//www.un.org/en/sections/departments/department-global-communications/\">Department of Global Communications</a></li>\\n<li class=\"leaf menu-mlid-12344\"><a href=\"https://www.un.org/sg/en/spokesperson\">Spokesperson&#039;s Office</a></li>\\n<li class=\"last leaf menu-mlid-22065\"><a href=\"https://www.un.org/scientific-advisory-board/en\">Scientific Advisory Board</a></li>\\n</ul></div>\\n\\n</section>\\n    </section>\\n      </div>\\n    </div>\\n  </div>\\n</div>\\n\\n<!-- UN.ORG footer -->\\n<div class=\"section-fluid footer-fluid\">\\n\\t<footer class=\"footer container dark\">\\n\\t\\t<div class=\"row\"><!-- row -->\\n\\t    \\t<div class=\"col-md-12\">\\n\\t\\t  \\t\\t<div class=\"col-md-2 pull-left flip footer-brand en\"><!-- footer brand -->\\n\\t\\t\\t\\t\\t<a href=\"https://www.un.org/en/\" title=\"Home\">\\n\\t\\t\\t\\t\\t<span class=\"site-name\">United Nations</span></a>\\n\\t\\t  \\t\\t</div>\\n\\n\\t\\t\\t\\t<div class=\"col-md-3 pull-left flip footer-address\">\\n\\t\\t\\t  \\t\\t\\t\\t\\t  \\t</div>\\n\\n\\t\\t\\t\\t<div class=\"pull-right flip donate\">\\n\\t\\t\\t\\t\\t<a href=\"https://www.un.org/en/sections/about-un/how-donate-united-nations-system/\" class=\"btn btn-default btn-reverse dark\" role=\"button\" id=\"donate_button\">Donate</a>\\n\\t\\t\\t\\t</div>  \\n\\n\\t\\t  \\t\\t<div class=\"col-md-5 pull-right flip social-media\" role=\"navigation\"><!-- social media links here -->\\n\\t\\t\\t\\t\\t\\t\\t\\t\\t\\t\\t    <section class=\"region region-footer-tr\">\\n    <section id=\"block-menu-menu-sg-footer-social-media\" class=\"block block-menu clearfix\">\\n\\n      \\n  <ul class=\"menu nav\"><li class=\"first leaf\"><a href=\"https://www.facebook.com/unitednations\"><span><i class=\"fab fa-facebook-square\" aria-hidden=\"true\"></i></span>\\n<span class=\"title\">Facebook UN</span></a></li>\\n<li class=\"leaf\"><a href=\"https://twitter.com/antonioguterres\"><span><i class=\"fab fa-twitter-square\" aria-hidden=\"true\"></i></span>\\n<span class=\"hidden\">twitter</span></a></li>\\n<li class=\"last leaf\"><a href=\"https://www.instagram.com/antonioguterres/\"><i class=\"fab fa-instagram\" aria-hidden=\"true\"></i><span class=\"hidden\">Instagram</span></a></li>\\n</ul>\\n</section>\\n    </section>\\n                    \\t\\t\\t  \\t</div><!-- /social media links -->\\n\\t\\t\\t</div>\\n\\t\\t</div><!-- /row -->\\n\\t\\t<div class=\"row footer-links\"><!-- row -->\\n\\t\\t\\t<div class=\"divider\"></div><!-- top border -->\\n\\t\\t      <div class=\"col-md-12\">\\n\\t\\t\\t\\t<div class=\"pull-right flip\"> \\n\\t\\t\\t\\t\\t<div id=\"block-menu-menu-footer-links\" role=\"navigation\"> \\t\\n\\t\\t\\t\\t\\t\\t<ul class=\"nav-bar list-inline\"><li class=\"menu-4869 first\"><a href=\"https://www.un.org/en/about-us/copyright\">Copyright</a></li>\\n<li class=\"menu-4870\"><a href=\"https://www.un.org/en/about-us/terms-of-use\">Terms of Use</a></li>\\n<li class=\"menu-4871\"><a href=\"http://www.un.org/en/sections/about-website/privacy-notice/index.html\">Privacy Notice</a></li>\\n<li class=\"menu-4873\"><a href=\"https://www.un.org/en/about-us/fraud-alert\">Fraud Alert</a></li>\\n<li class=\"menu-4874\"><a href=\"https://www.un.org/en/about-us/frequently-asked-questions\">FAQ</a></li>\\n<li class=\"menu-4875 last\"><a href=\"https://www.un.org/en/contact-us-0\">Contact</a></li>\\n</ul>\\t\\t\\t\\t\\t</div> \\n\\t\\t\\t\\t</div>\\n\\t\\t\\t</div>\\n\\t\\t</div><!-- /row -->\\n\\t</footer>\\n\\t<div class=\"hidden\">\\n\\t\\t\\t</div>\\n</div>\\n<!-- UN.ORG footer end -->\\n\\n</div><!--/div>/non-semantic .wrapper for all pages and languages to apply CSS -->\\n  <script>da2a.targets=[\\n{title:\"Note to Correspondents: on Gaza\",url:\"https:\\\\/\\\\/www.un.org\\\\/sg\\\\/en\\\\/content\\\\/sg\\\\/note-correspondents\\\\/2025-03-24\\\\/note-correspondents-gaza\"}];\\nda2a.html_done=true;if(da2a.script_ready&&!da2a.done)da2a.init();da2a.script_load();</script>\\n<script src=\"https://www.un.org/sg/sites/www.un.org.sg/files/js/js_MRdvkC2u4oGsp5wVxBG1pGV5NrCPW3mssHxIn6G9tGE.js\"></script>\\n</body>\\n</html>\\n'\n"
     ]
    }
   ],
   "source": [
    "url = \"https://www.un.org/sg/en/content/sg/note-correspondents/2025-03-24/note-correspondents-gaza\"\n",
    "print(simple_url_to_html(url))"
   ]
  },
  {
   "cell_type": "code",
   "execution_count": 45,
   "id": "1183c5db",
   "metadata": {},
   "outputs": [
    {
     "data": {
      "text/plain": [
       "True"
      ]
     },
     "execution_count": 45,
     "metadata": {},
     "output_type": "execute_result"
    }
   ],
   "source": [
    "html = simple_url_to_html(url)\n",
    "\"The UN is not leaving Gaza. The Organization remains committed to conti\" in str(html)"
   ]
  },
  {
   "cell_type": "code",
   "execution_count": 46,
   "id": "31686061",
   "metadata": {},
   "outputs": [],
   "source": [
    "cleaned_html = clean_html_for_extraction3(html)"
   ]
  },
  {
   "cell_type": "code",
   "execution_count": 47,
   "id": "9975c567",
   "metadata": {},
   "outputs": [
    {
     "data": {
      "text/plain": [
       "False"
      ]
     },
     "execution_count": 47,
     "metadata": {},
     "output_type": "execute_result"
    }
   ],
   "source": [
    "\"The UN is not leaving Gaza. The Organization remains committed to conti\" in str(cleaned_html)"
   ]
  },
  {
   "cell_type": "code",
   "execution_count": 48,
   "id": "1c0b0f3b",
   "metadata": {},
   "outputs": [
    {
     "data": {
      "text/plain": [
       "35827"
      ]
     },
     "execution_count": 48,
     "metadata": {},
     "output_type": "execute_result"
    }
   ],
   "source": [
    "len(html)"
   ]
  },
  {
   "cell_type": "code",
   "execution_count": 49,
   "id": "e41c55ff",
   "metadata": {},
   "outputs": [
    {
     "data": {
      "text/plain": [
       "1539"
      ]
     },
     "execution_count": 49,
     "metadata": {},
     "output_type": "execute_result"
    }
   ],
   "source": [
    "len(cleaned_html)"
   ]
  },
  {
   "cell_type": "code",
   "execution_count": null,
   "id": "57e9cc40",
   "metadata": {},
   "outputs": [],
   "source": []
  }
 ],
 "metadata": {
  "kernelspec": {
   "display_name": ".env",
   "language": "python",
   "name": "python3"
  },
  "language_info": {
   "codemirror_mode": {
    "name": "ipython",
    "version": 3
   },
   "file_extension": ".py",
   "mimetype": "text/x-python",
   "name": "python",
   "nbconvert_exporter": "python",
   "pygments_lexer": "ipython3",
   "version": "3.13.7"
  }
 },
 "nbformat": 4,
 "nbformat_minor": 5
}
