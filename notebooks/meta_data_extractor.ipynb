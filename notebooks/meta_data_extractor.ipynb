{
 "cells": [
  {
   "cell_type": "code",
   "execution_count": 5,
   "id": "6eb8b8df",
   "metadata": {},
   "outputs": [
    {
     "name": "stdout",
     "output_type": "stream",
     "text": [
      "Requirement already satisfied: beautifulsoup4 in /Users/delmedigo/Dev/langtest/langscrape/.env/lib/python3.14/site-packages (4.14.2)\n",
      "Collecting dateparser\n",
      "  Downloading dateparser-1.2.2-py3-none-any.whl.metadata (29 kB)\n",
      "Requirement already satisfied: soupsieve>1.2 in /Users/delmedigo/Dev/langtest/langscrape/.env/lib/python3.14/site-packages (from beautifulsoup4) (2.8)\n",
      "Requirement already satisfied: typing-extensions>=4.0.0 in /Users/delmedigo/Dev/langtest/langscrape/.env/lib/python3.14/site-packages (from beautifulsoup4) (4.15.0)\n",
      "Requirement already satisfied: python-dateutil>=2.7.0 in /Users/delmedigo/Dev/langtest/langscrape/.env/lib/python3.14/site-packages (from dateparser) (2.9.0.post0)\n",
      "Requirement already satisfied: pytz>=2024.2 in /Users/delmedigo/Dev/langtest/langscrape/.env/lib/python3.14/site-packages (from dateparser) (2025.2)\n",
      "Requirement already satisfied: regex>=2024.9.11 in /Users/delmedigo/Dev/langtest/langscrape/.env/lib/python3.14/site-packages (from dateparser) (2025.9.18)\n",
      "Collecting tzlocal>=0.2 (from dateparser)\n",
      "  Downloading tzlocal-5.3.1-py3-none-any.whl.metadata (7.6 kB)\n",
      "Requirement already satisfied: six>=1.5 in /Users/delmedigo/Dev/langtest/langscrape/.env/lib/python3.14/site-packages (from python-dateutil>=2.7.0->dateparser) (1.17.0)\n",
      "Downloading dateparser-1.2.2-py3-none-any.whl (315 kB)\n",
      "Downloading tzlocal-5.3.1-py3-none-any.whl (18 kB)\n",
      "Installing collected packages: tzlocal, dateparser\n",
      "\u001b[2K   \u001b[90m━━━━━━━━━━━━━━━━━━━━━━━━━━━━━━━━━━━━━━━━\u001b[0m \u001b[32m2/2\u001b[0m [dateparser]\n",
      "\u001b[1A\u001b[2KSuccessfully installed dateparser-1.2.2 tzlocal-5.3.1\n"
     ]
    }
   ],
   "source": [
    "!pip install beautifulsoup4 dateparser"
   ]
  },
  {
   "cell_type": "code",
   "execution_count": 7,
   "id": "332584d7",
   "metadata": {},
   "outputs": [],
   "source": [
    "from bs4 import BeautifulSoup\n",
    "from typing import Dict, Optional\n",
    "import dateparser\n",
    "\n",
    "def _traditional_extract_metadata(html_content: str) -> Dict[str, Optional[str]]:\n",
    "    \"\"\"Traditional metadata extraction method as fallback\"\"\"\n",
    "    soup = BeautifulSoup(html_content, 'html.parser')\n",
    "    metadata = {\n",
    "        'author': None,\n",
    "        'publication_date': None,\n",
    "        'title': None,\n",
    "    }\n",
    "    \n",
    "    # Multiple patterns for author\n",
    "    try:\n",
    "        author = None\n",
    "        # First try meta tags\n",
    "        author_patterns = [\n",
    "            {'name': 'author'},\n",
    "            {'property': 'author'},\n",
    "            {'property': 'article:author'},\n",
    "            {'name': 'byl'},\n",
    "            {'name': 'twitter:creator'},\n",
    "        ]\n",
    "        \n",
    "        for pattern in author_patterns:\n",
    "            meta_tag = soup.find('meta', pattern)\n",
    "            if meta_tag and meta_tag.get('content'):\n",
    "                author = meta_tag['content']\n",
    "                break\n",
    "        \n",
    "        # If no meta tag found, try looking for common author HTML patterns\n",
    "        if not author:\n",
    "            # Look for authors div with nested spans\n",
    "            authors_div = soup.find('div', class_=['authors', 'contributor', 'contributors'])\n",
    "            if authors_div:\n",
    "                # Try to find nested spans or links\n",
    "                author_elements = authors_div.find_all(['span', 'a'])\n",
    "                if author_elements:\n",
    "                    authors = [elem.get_text().strip() for elem in author_elements if elem.get_text().strip()]\n",
    "                    author = ', '.join(authors)\n",
    "            \n",
    "            # If still no author, try other common patterns\n",
    "            if not author:\n",
    "                author_elements = soup.select('a[rel=\"author\"], .author, .byline, .c-author, [itemprop=\"author\"], .contributor, .contributors')\n",
    "                if author_elements:\n",
    "                    author = author_elements[0].get_text().strip()\n",
    "                \n",
    "        metadata['author'] = author\n",
    "    except Exception as e:\n",
    "        print(f\"Error extracting author: {str(e)}\")\n",
    "        pass\n",
    "    \n",
    "    # Publication date extraction with standardized format\n",
    "    try:\n",
    "        date = None\n",
    "        date_patterns = [\n",
    "            {'name': 'publication_date'},\n",
    "            {'property': 'article:published_time'},\n",
    "            {'property': 'article:published'},\n",
    "            {'name': 'date'},\n",
    "            {'itemprop': 'datePublished'},\n",
    "            {'name': 'publishedDate'},\n",
    "        ]\n",
    "        \n",
    "        for pattern in date_patterns:\n",
    "            meta_tag = soup.find('meta', pattern)\n",
    "            if meta_tag and meta_tag.get('content'):\n",
    "                date = meta_tag['content']\n",
    "                break\n",
    "                \n",
    "        # If no meta tag found, try looking for time elements\n",
    "        if not date:\n",
    "            time_elements = soup.find_all('time')\n",
    "            for time_elem in time_elements:\n",
    "                if time_elem.get('datetime'):\n",
    "                    date = time_elem['datetime']\n",
    "                    break\n",
    "                elif time_elem.get('data-timestamp'):\n",
    "                    date = time_elem['data-timestamp']\n",
    "                    break\n",
    "                \n",
    "        # Standardize date format if a date was found\n",
    "        if date:\n",
    "            parsed_date = dateparser.parse(date)\n",
    "            if parsed_date:\n",
    "                metadata['publication_date'] = parsed_date.strftime('%Y-%m-%d')\n",
    "        \n",
    "    except Exception:\n",
    "        pass\n",
    "    \n",
    "    # Title extraction (keeping existing implementation)\n",
    "    try:\n",
    "        metadata['title'] = soup.find('title').text.strip()\n",
    "    except AttributeError:\n",
    "        pass\n",
    "    \n",
    "    return metadata"
   ]
  },
  {
   "cell_type": "code",
   "execution_count": 12,
   "id": "9828dc3e",
   "metadata": {},
   "outputs": [
    {
     "data": {
      "text/plain": [
       "{'author': \"ליהיא גורדון,, ליהיא גורדון, מאיר תורג'מן,, מאיר תורג'מן, רועי רובינשטיין, רועי רובינשטיין, |\",\n",
       " 'publication_date': '2025-10-14',\n",
       " 'title': 'הלחימה \"מעל לראשו של עמרי\" - והבכי של שורד השבי בהצהרה: \"רק עכשיו אני חופשי\"'}"
      ]
     },
     "execution_count": 12,
     "metadata": {},
     "output_type": "execute_result"
    }
   ],
   "source": [
    "import requests\n",
    "\n",
    "url = \"https://www.ynet.co.il/news/article/byexklhpll\"\n",
    "r = requests.get(url)\n",
    "_traditional_extract_metadata(r.content)"
   ]
  }
 ],
 "metadata": {
  "kernelspec": {
   "display_name": "Python 3",
   "language": "python",
   "name": "python3"
  },
  "language_info": {
   "codemirror_mode": {
    "name": "ipython",
    "version": 3
   },
   "file_extension": ".py",
   "mimetype": "text/x-python",
   "name": "python",
   "nbconvert_exporter": "python",
   "pygments_lexer": "ipython3",
   "version": "3.14.0"
  }
 },
 "nbformat": 4,
 "nbformat_minor": 5
}
